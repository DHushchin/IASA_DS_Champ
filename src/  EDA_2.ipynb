{
 "cells": [
  {
   "cell_type": "code",
   "execution_count": 25,
   "id": "15f978ef-d43c-418b-9db4-a8d8bc413445",
   "metadata": {
    "pycharm": {
     "name": "#%%\n"
    }
   },
   "outputs": [],
   "source": [
    "import pandas as pd\n",
    "import numpy as np\n",
    "import matplotlib.pyplot as plt\n",
    "import seaborn as sns\n",
    "import csv"
   ]
  },
  {
   "cell_type": "code",
   "execution_count": 26,
   "id": "a56e06da-b138-46e4-a9b2-4279e08e7ebd",
   "metadata": {
    "pycharm": {
     "name": "#%%\n"
    }
   },
   "outputs": [],
   "source": [
    "filename = 'C:/Users/Yarik/Desktop/IASA/TEST TASK (dataset).csv'"
   ]
  },
  {
   "cell_type": "code",
   "execution_count": 27,
   "id": "5b6a4d33-9b28-423f-92d4-01a1cda288c4",
   "metadata": {
    "pycharm": {
     "name": "#%%\n"
    }
   },
   "outputs": [],
   "source": [
    "df_csv = pd.read_csv(filename)"
   ]
  },
  {
   "cell_type": "code",
   "execution_count": 28,
   "id": "18c665fe-eaac-4e58-8700-f0842dc43450",
   "metadata": {
    "pycharm": {
     "name": "#%%\n"
    }
   },
   "outputs": [],
   "source": [
    "#Метод відкидання зайвих чисел після коми\n",
    "#f- число, n - кількість знаків після коми, яке залишаєм\n",
    "def rejection_number (f,n):\n",
    "    return ((f * 10**n) // 1) / 10**n"
   ]
  },
  {
   "cell_type": "markdown",
   "id": "e085ef32-c102-4240-8580-9e2a659177f9",
   "metadata": {
    "pycharm": {
     "name": "#%% md\n"
    }
   },
   "source": [
    "Для початку дізнаємось скільки людей використовують застосунок на певній платформі."
   ]
  },
  {
   "cell_type": "code",
   "execution_count": 29,
   "id": "3be62b22-7459-4d45-8ef8-e9e9116a2a26",
   "metadata": {
    "pycharm": {
     "name": "#%%\n"
    }
   },
   "outputs": [
    {
     "data": {
      "text/html": [
       "<div>\n",
       "<style scoped>\n",
       "    .dataframe tbody tr th:only-of-type {\n",
       "        vertical-align: middle;\n",
       "    }\n",
       "\n",
       "    .dataframe tbody tr th {\n",
       "        vertical-align: top;\n",
       "    }\n",
       "\n",
       "    .dataframe thead th {\n",
       "        text-align: right;\n",
       "    }\n",
       "</style>\n",
       "<table border=\"1\" class=\"dataframe\">\n",
       "  <thead>\n",
       "    <tr style=\"text-align: right;\">\n",
       "      <th></th>\n",
       "      <th>target_full_ltv_day30</th>\n",
       "    </tr>\n",
       "    <tr>\n",
       "      <th>platform</th>\n",
       "      <th></th>\n",
       "    </tr>\n",
       "  </thead>\n",
       "  <tbody>\n",
       "    <tr>\n",
       "      <th>android</th>\n",
       "      <td>887426</td>\n",
       "    </tr>\n",
       "    <tr>\n",
       "      <th>ios</th>\n",
       "      <td>580406</td>\n",
       "    </tr>\n",
       "  </tbody>\n",
       "</table>\n",
       "</div>"
      ],
      "text/plain": [
       "          target_full_ltv_day30\n",
       "platform                       \n",
       "android                  887426\n",
       "ios                      580406"
      ]
     },
     "execution_count": 29,
     "metadata": {},
     "output_type": "execute_result"
    }
   ],
   "source": [
    "platformData_count = df_csv[['target_full_ltv_day30', 'platform']]\\\n",
    "    .groupby(['platform'], group_keys=True)\\\n",
    "    .count()\n",
    "platformData_count.sort_values(by=['target_full_ltv_day30'], ascending=False)"
   ]
  },
  {
   "cell_type": "markdown",
   "id": "90b76309-abe8-4095-bf8c-4c7cac1111eb",
   "metadata": {
    "pycharm": {
     "name": "#%% md\n"
    }
   },
   "source": [
    "Після чого ми дізнаємось скільки всього значень в дата сеті, з чого можем зробити висновок про відсоткове значення вибору платформи для використання додатку. "
   ]
  },
  {
   "cell_type": "code",
   "execution_count": 30,
   "id": "6113a132-ab55-4863-8795-a498a14f2156",
   "metadata": {
    "pycharm": {
     "name": "#%%\n"
    }
   },
   "outputs": [
    {
     "data": {
      "text/plain": [
       "target_full_ltv_day30    1467832\n",
       "dtype: int64"
      ]
     },
     "execution_count": 30,
     "metadata": {},
     "output_type": "execute_result"
    }
   ],
   "source": [
    "platformData_rate_count = df_csv[['target_full_ltv_day30']]\\\n",
    "    .count()\n",
    "platformData_rate_count.head()"
   ]
  },
  {
   "cell_type": "code",
   "execution_count": 31,
   "id": "f4950b04-87b8-434e-939a-38bb88600100",
   "metadata": {
    "pycharm": {
     "name": "#%%\n"
    }
   },
   "outputs": [
    {
     "name": "stdout",
     "output_type": "stream",
     "text": [
      "Android persent =  60.458281329198435\n"
     ]
    }
   ],
   "source": [
    "Android_persent = (887426 * 100)/1467832\n",
    "print(\"Android persent = \", Android_persent)"
   ]
  },
  {
   "cell_type": "code",
   "execution_count": 32,
   "id": "f71e0dea-d957-43d3-bb45-95fc800e6374",
   "metadata": {
    "pycharm": {
     "name": "#%%\n"
    }
   },
   "outputs": [
    {
     "data": {
      "image/png": "[encoded data removed]",
      "text/plain": [
       "<Figure size 640x480 with 1 Axes>"
      ]
     },
     "metadata": {},
     "output_type": "display_data"
    }
   ],
   "source": [
    "# Створення списку об'єктів\n",
    "platforms = ['Android', 'IOS'] \n",
    "\n",
    "# Створення списку відповідних значень\n",
    "data = [60.46, 100 - 60.46] \n",
    "  \n",
    "# Створення plot .figure(figsize =(10, 7)) \n",
    "plt.pie(data, autopct='%1.1f%%') \n",
    "\n",
    "# Adding legend \n",
    "plt.legend(platforms, bbox_to_anchor =(1, 0, 0.5, 1)) \n",
    "  \n",
    "# Вивід кругової діаграми \n",
    "plt.show()"
   ]
  },
  {
   "cell_type": "markdown",
   "id": "7aa5dd24-5d88-4b80-b8f7-776b4b014f61",
   "metadata": {
    "pycharm": {
     "name": "#%% md\n"
    }
   },
   "source": [
    "З вище вказаних даних видно, що більшість користувачів використовуют платформу андроїд. \n",
    "Тепер переглянемо скільки прибутку приносять користувачі з кожної платформи.\n"
   ]
  },
  {
   "cell_type": "code",
   "execution_count": 33,
   "id": "3d1e8019-7513-43a7-ba47-3e043aab16c9",
   "metadata": {
    "pycharm": {
     "name": "#%%\n"
    }
   },
   "outputs": [
    {
     "data": {
      "text/html": [
       "<div>\n",
       "<style scoped>\n",
       "    .dataframe tbody tr th:only-of-type {\n",
       "        vertical-align: middle;\n",
       "    }\n",
       "\n",
       "    .dataframe tbody tr th {\n",
       "        vertical-align: top;\n",
       "    }\n",
       "\n",
       "    .dataframe thead th {\n",
       "        text-align: right;\n",
       "    }\n",
       "</style>\n",
       "<table border=\"1\" class=\"dataframe\">\n",
       "  <thead>\n",
       "    <tr style=\"text-align: right;\">\n",
       "      <th></th>\n",
       "      <th>target_sub_ltv_day30</th>\n",
       "      <th>target_iap_ltv_day30</th>\n",
       "      <th>target_ad_ltv_day30</th>\n",
       "      <th>target_full_ltv_day30</th>\n",
       "    </tr>\n",
       "    <tr>\n",
       "      <th>platform</th>\n",
       "      <th></th>\n",
       "      <th></th>\n",
       "      <th></th>\n",
       "      <th></th>\n",
       "    </tr>\n",
       "  </thead>\n",
       "  <tbody>\n",
       "    <tr>\n",
       "      <th>ios</th>\n",
       "      <td>25303.603837</td>\n",
       "      <td>241203.277020</td>\n",
       "      <td>22436.180010</td>\n",
       "      <td>288943.060867</td>\n",
       "    </tr>\n",
       "    <tr>\n",
       "      <th>android</th>\n",
       "      <td>7033.283064</td>\n",
       "      <td>72805.257615</td>\n",
       "      <td>8264.586739</td>\n",
       "      <td>88103.127418</td>\n",
       "    </tr>\n",
       "  </tbody>\n",
       "</table>\n",
       "</div>"
      ],
      "text/plain": [
       "          target_sub_ltv_day30  target_iap_ltv_day30  target_ad_ltv_day30  \\\n",
       "platform                                                                    \n",
       "ios               25303.603837         241203.277020         22436.180010   \n",
       "android            7033.283064          72805.257615          8264.586739   \n",
       "\n",
       "          target_full_ltv_day30  \n",
       "platform                         \n",
       "ios               288943.060867  \n",
       "android            88103.127418  "
      ]
     },
     "execution_count": 33,
     "metadata": {},
     "output_type": "execute_result"
    }
   ],
   "source": [
    "platformData_sum = df_csv[['platform', 'target_sub_ltv_day30', 'target_iap_ltv_day30', 'target_ad_ltv_day30', 'target_full_ltv_day30']]\\\n",
    "    .groupby(['platform'], group_keys=True)\\\n",
    "    .sum()\n",
    "platformData_sum.sort_values(by=['target_full_ltv_day30'], ascending=False)"
   ]
  },
  {
   "cell_type": "code",
   "execution_count": 34,
   "id": "d8ac6e62-3e1a-4eff-a96e-fa9cf64d76c3",
   "metadata": {
    "pycharm": {
     "name": "#%%\n"
    }
   },
   "outputs": [
    {
     "name": "stdout",
     "output_type": "stream",
     "text": [
      "ios profit =  76.63333295617221\n"
     ]
    }
   ],
   "source": [
    "ios_profit = (288943.060867 * 100)/(288943.060867+88103.127418)\n",
    "print(\"ios profit = \", ios_profit)"
   ]
  },
  {
   "cell_type": "code",
   "execution_count": 35,
   "id": "2e3f0ad3-9da4-4df7-bf60-04bd46a94be7",
   "metadata": {
    "pycharm": {
     "name": "#%%\n"
    }
   },
   "outputs": [
    {
     "data": {
      "image/png": "[encoded data removed]",
      "text/plain": [
       "<Figure size 640x480 with 1 Axes>"
      ]
     },
     "metadata": {},
     "output_type": "display_data"
    }
   ],
   "source": [
    "# Створення списку об'єктів\n",
    "platforms = ['Android', 'IOS'] \n",
    "\n",
    "# Створення списку відповідних значень\n",
    "data = [100 - 76.63, 76.63] \n",
    "  \n",
    "# Створення plot .figure(figsize =(10, 7)) \n",
    "plt.pie(data, autopct='%1.1f%%') \n",
    "\n",
    "# Adding legend \n",
    "plt.legend(platforms, bbox_to_anchor =(1, 0, 0.5, 1)) \n",
    "  \n",
    "# Вивід кругової діаграми \n",
    "plt.show()"
   ]
  },
  {
   "cell_type": "markdown",
   "id": "6150bce0-03c5-4fd7-9a59-a0c795104496",
   "metadata": {
    "pycharm": {
     "name": "#%% md\n"
    }
   },
   "source": [
    "З цієї діаграми видно що користувачі з платформи ios приносять понад 76% прибутку.\n",
    "Також варто розглянути корреляцію прибутку по джерелам між двума платформати.\n",
    "На платформі IOS більшість прибутку складає сервіс підписки, а найменший перегляд реклами, а на Android - навпаки.\n",
    "\n",
    "З цього можна зробити висновок що користувачі на платформі IOS більш цінні, і найбільший прибуток приносить саме сервіс підписок. \n",
    "На це варто звернути увагу при розробці та навчання моделі."
   ]
  },
  {
   "cell_type": "markdown",
   "id": "1bfb435d-cb0e-4048-b7ad-aff242cad64a",
   "metadata": {
    "pycharm": {
     "name": "#%% md\n"
    }
   },
   "source": [
    "По тій причині що модель легше навчати на числових даних ми можем їх замінити на числові значення\n",
    "IOS - 1\n",
    "Android - 0\n",
    "Значення були так розподілені по причині того , що саме IOS має більшу перевану в моделі."
   ]
  },
  {
   "cell_type": "code",
   "execution_count": 36,
   "id": "bf237b73-e802-43ae-b624-a98b5471e83b",
   "metadata": {
    "pycharm": {
     "name": "#%%\n"
    }
   },
   "outputs": [
    {
     "data": {
      "text/html": [
       "<div>\n",
       "<style scoped>\n",
       "    .dataframe tbody tr th:only-of-type {\n",
       "        vertical-align: middle;\n",
       "    }\n",
       "\n",
       "    .dataframe tbody tr th {\n",
       "        vertical-align: top;\n",
       "    }\n",
       "\n",
       "    .dataframe thead th {\n",
       "        text-align: right;\n",
       "    }\n",
       "</style>\n",
       "<table border=\"1\" class=\"dataframe\">\n",
       "  <thead>\n",
       "    <tr style=\"text-align: right;\">\n",
       "      <th></th>\n",
       "      <th>total_sessions_day0</th>\n",
       "      <th>total_sessions_day1</th>\n",
       "      <th>total_sessions_day3</th>\n",
       "      <th>total_sessions_day7</th>\n",
       "      <th>chapters_finished_day0</th>\n",
       "      <th>chapters_finished_day1</th>\n",
       "      <th>chapters_finished_day3</th>\n",
       "      <th>chapters_finished_day7</th>\n",
       "      <th>chapters_opened_day0</th>\n",
       "      <th>chapters_opened_day1</th>\n",
       "      <th>...</th>\n",
       "      <th>install_date</th>\n",
       "      <th>country_code</th>\n",
       "      <th>ad_ltv_day0</th>\n",
       "      <th>ad_ltv_day1</th>\n",
       "      <th>ad_ltv_day3</th>\n",
       "      <th>platform</th>\n",
       "      <th>target_sub_ltv_day30</th>\n",
       "      <th>target_iap_ltv_day30</th>\n",
       "      <th>target_ad_ltv_day30</th>\n",
       "      <th>target_full_ltv_day30</th>\n",
       "    </tr>\n",
       "  </thead>\n",
       "  <tbody>\n",
       "    <tr>\n",
       "      <th>0</th>\n",
       "      <td>1.0</td>\n",
       "      <td>1.0</td>\n",
       "      <td>1.0</td>\n",
       "      <td>1.0</td>\n",
       "      <td>0</td>\n",
       "      <td>0</td>\n",
       "      <td>0</td>\n",
       "      <td>0</td>\n",
       "      <td>0</td>\n",
       "      <td>0</td>\n",
       "      <td>...</td>\n",
       "      <td>2021-12-03</td>\n",
       "      <td>COUNTRY_135</td>\n",
       "      <td>0.0</td>\n",
       "      <td>0.0</td>\n",
       "      <td>0.0</td>\n",
       "      <td>1</td>\n",
       "      <td>0.0</td>\n",
       "      <td>0.0</td>\n",
       "      <td>0.0</td>\n",
       "      <td>0.0</td>\n",
       "    </tr>\n",
       "    <tr>\n",
       "      <th>1</th>\n",
       "      <td>1.0</td>\n",
       "      <td>1.0</td>\n",
       "      <td>1.0</td>\n",
       "      <td>1.0</td>\n",
       "      <td>0</td>\n",
       "      <td>0</td>\n",
       "      <td>0</td>\n",
       "      <td>0</td>\n",
       "      <td>0</td>\n",
       "      <td>0</td>\n",
       "      <td>...</td>\n",
       "      <td>2021-12-03</td>\n",
       "      <td>COUNTRY_141</td>\n",
       "      <td>0.0</td>\n",
       "      <td>0.0</td>\n",
       "      <td>0.0</td>\n",
       "      <td>0</td>\n",
       "      <td>0.0</td>\n",
       "      <td>0.0</td>\n",
       "      <td>0.0</td>\n",
       "      <td>0.0</td>\n",
       "    </tr>\n",
       "    <tr>\n",
       "      <th>2</th>\n",
       "      <td>1.0</td>\n",
       "      <td>2.0</td>\n",
       "      <td>2.0</td>\n",
       "      <td>2.0</td>\n",
       "      <td>0</td>\n",
       "      <td>0</td>\n",
       "      <td>0</td>\n",
       "      <td>0</td>\n",
       "      <td>0</td>\n",
       "      <td>0</td>\n",
       "      <td>...</td>\n",
       "      <td>2021-12-03</td>\n",
       "      <td>COUNTRY_141</td>\n",
       "      <td>0.0</td>\n",
       "      <td>0.0</td>\n",
       "      <td>0.0</td>\n",
       "      <td>0</td>\n",
       "      <td>0.0</td>\n",
       "      <td>0.0</td>\n",
       "      <td>0.0</td>\n",
       "      <td>0.0</td>\n",
       "    </tr>\n",
       "    <tr>\n",
       "      <th>3</th>\n",
       "      <td>1.0</td>\n",
       "      <td>1.0</td>\n",
       "      <td>1.0</td>\n",
       "      <td>1.0</td>\n",
       "      <td>0</td>\n",
       "      <td>0</td>\n",
       "      <td>0</td>\n",
       "      <td>0</td>\n",
       "      <td>0</td>\n",
       "      <td>0</td>\n",
       "      <td>...</td>\n",
       "      <td>2021-12-03</td>\n",
       "      <td>COUNTRY_141</td>\n",
       "      <td>0.0</td>\n",
       "      <td>0.0</td>\n",
       "      <td>0.0</td>\n",
       "      <td>1</td>\n",
       "      <td>0.0</td>\n",
       "      <td>0.0</td>\n",
       "      <td>0.0</td>\n",
       "      <td>0.0</td>\n",
       "    </tr>\n",
       "    <tr>\n",
       "      <th>4</th>\n",
       "      <td>1.0</td>\n",
       "      <td>1.0</td>\n",
       "      <td>1.0</td>\n",
       "      <td>1.0</td>\n",
       "      <td>0</td>\n",
       "      <td>0</td>\n",
       "      <td>0</td>\n",
       "      <td>0</td>\n",
       "      <td>0</td>\n",
       "      <td>0</td>\n",
       "      <td>...</td>\n",
       "      <td>2021-12-03</td>\n",
       "      <td>COUNTRY_203</td>\n",
       "      <td>0.0</td>\n",
       "      <td>0.0</td>\n",
       "      <td>0.0</td>\n",
       "      <td>0</td>\n",
       "      <td>0.0</td>\n",
       "      <td>0.0</td>\n",
       "      <td>0.0</td>\n",
       "      <td>0.0</td>\n",
       "    </tr>\n",
       "  </tbody>\n",
       "</table>\n",
       "<p>5 rows × 63 columns</p>\n",
       "</div>"
      ],
      "text/plain": [
       "   total_sessions_day0  total_sessions_day1  total_sessions_day3  \\\n",
       "0                  1.0                  1.0                  1.0   \n",
       "1                  1.0                  1.0                  1.0   \n",
       "2                  1.0                  2.0                  2.0   \n",
       "3                  1.0                  1.0                  1.0   \n",
       "4                  1.0                  1.0                  1.0   \n",
       "\n",
       "   total_sessions_day7  chapters_finished_day0  chapters_finished_day1  \\\n",
       "0                  1.0                       0                       0   \n",
       "1                  1.0                       0                       0   \n",
       "2                  2.0                       0                       0   \n",
       "3                  1.0                       0                       0   \n",
       "4                  1.0                       0                       0   \n",
       "\n",
       "   chapters_finished_day3  chapters_finished_day7  chapters_opened_day0  \\\n",
       "0                       0                       0                     0   \n",
       "1                       0                       0                     0   \n",
       "2                       0                       0                     0   \n",
       "3                       0                       0                     0   \n",
       "4                       0                       0                     0   \n",
       "\n",
       "   chapters_opened_day1  ...  install_date  country_code  ad_ltv_day0  \\\n",
       "0                     0  ...    2021-12-03   COUNTRY_135          0.0   \n",
       "1                     0  ...    2021-12-03   COUNTRY_141          0.0   \n",
       "2                     0  ...    2021-12-03   COUNTRY_141          0.0   \n",
       "3                     0  ...    2021-12-03   COUNTRY_141          0.0   \n",
       "4                     0  ...    2021-12-03   COUNTRY_203          0.0   \n",
       "\n",
       "   ad_ltv_day1  ad_ltv_day3  platform  target_sub_ltv_day30  \\\n",
       "0          0.0          0.0         1                   0.0   \n",
       "1          0.0          0.0         0                   0.0   \n",
       "2          0.0          0.0         0                   0.0   \n",
       "3          0.0          0.0         1                   0.0   \n",
       "4          0.0          0.0         0                   0.0   \n",
       "\n",
       "   target_iap_ltv_day30  target_ad_ltv_day30  target_full_ltv_day30  \n",
       "0                   0.0                  0.0                    0.0  \n",
       "1                   0.0                  0.0                    0.0  \n",
       "2                   0.0                  0.0                    0.0  \n",
       "3                   0.0                  0.0                    0.0  \n",
       "4                   0.0                  0.0                    0.0  \n",
       "\n",
       "[5 rows x 63 columns]"
      ]
     },
     "execution_count": 36,
     "metadata": {},
     "output_type": "execute_result"
    }
   ],
   "source": [
    "binary_platform = {\"ios\" : 1 ,\"android\" : 0}\n",
    "df_csv['platform'] = df_csv['platform'].map(binary_platform)\n",
    "df_csv.head()"
   ]
  },
  {
   "cell_type": "markdown",
   "id": "4b8cdbcb-cabd-445d-892d-cdfb75b7c33c",
   "metadata": {
    "pycharm": {
     "name": "#%% md\n"
    }
   },
   "source": [
    "В нас залишилась ще одна подібна змінна, це \"country_code\", переглянемо яке з значень наймажливіше, те і буде найближчим до 1, а найслабше, найближче до 0."
   ]
  },
  {
   "cell_type": "code",
   "execution_count": 37,
   "id": "8e837377-5f53-45f9-9a82-716027686519",
   "metadata": {
    "pycharm": {
     "name": "#%%\n"
    }
   },
   "outputs": [
    {
     "data": {
      "text/html": [
       "<div>\n",
       "<style scoped>\n",
       "    .dataframe tbody tr th:only-of-type {\n",
       "        vertical-align: middle;\n",
       "    }\n",
       "\n",
       "    .dataframe tbody tr th {\n",
       "        vertical-align: top;\n",
       "    }\n",
       "\n",
       "    .dataframe thead th {\n",
       "        text-align: right;\n",
       "    }\n",
       "</style>\n",
       "<table border=\"1\" class=\"dataframe\">\n",
       "  <thead>\n",
       "    <tr style=\"text-align: right;\">\n",
       "      <th></th>\n",
       "      <th>target_full_ltv_day30</th>\n",
       "    </tr>\n",
       "    <tr>\n",
       "      <th>media_source</th>\n",
       "      <th></th>\n",
       "    </tr>\n",
       "  </thead>\n",
       "  <tbody>\n",
       "    <tr>\n",
       "      <th>SOURCE_17</th>\n",
       "      <td>178081.217393</td>\n",
       "    </tr>\n",
       "    <tr>\n",
       "      <th>SOURCE_23</th>\n",
       "      <td>88381.038661</td>\n",
       "    </tr>\n",
       "    <tr>\n",
       "      <th>SOURCE_4</th>\n",
       "      <td>58684.510253</td>\n",
       "    </tr>\n",
       "    <tr>\n",
       "      <th>SOURCE_1</th>\n",
       "      <td>11350.813876</td>\n",
       "    </tr>\n",
       "    <tr>\n",
       "      <th>SOURCE_2</th>\n",
       "      <td>9140.568484</td>\n",
       "    </tr>\n",
       "    <tr>\n",
       "      <th>SOURCE_10</th>\n",
       "      <td>8457.155253</td>\n",
       "    </tr>\n",
       "    <tr>\n",
       "      <th>SOURCE_5</th>\n",
       "      <td>7016.308524</td>\n",
       "    </tr>\n",
       "    <tr>\n",
       "      <th>SOURCE_6</th>\n",
       "      <td>6402.577282</td>\n",
       "    </tr>\n",
       "    <tr>\n",
       "      <th>SOURCE_18</th>\n",
       "      <td>2293.067194</td>\n",
       "    </tr>\n",
       "    <tr>\n",
       "      <th>SOURCE_19</th>\n",
       "      <td>2070.000273</td>\n",
       "    </tr>\n",
       "    <tr>\n",
       "      <th>SOURCE_16</th>\n",
       "      <td>1893.323764</td>\n",
       "    </tr>\n",
       "    <tr>\n",
       "      <th>SOURCE_12</th>\n",
       "      <td>1340.010809</td>\n",
       "    </tr>\n",
       "    <tr>\n",
       "      <th>SOURCE_14</th>\n",
       "      <td>1052.816257</td>\n",
       "    </tr>\n",
       "    <tr>\n",
       "      <th>SOURCE_9</th>\n",
       "      <td>504.761382</td>\n",
       "    </tr>\n",
       "    <tr>\n",
       "      <th>SOURCE_7</th>\n",
       "      <td>167.826151</td>\n",
       "    </tr>\n",
       "    <tr>\n",
       "      <th>SOURCE_3</th>\n",
       "      <td>156.677794</td>\n",
       "    </tr>\n",
       "    <tr>\n",
       "      <th>SOURCE_8</th>\n",
       "      <td>28.021582</td>\n",
       "    </tr>\n",
       "    <tr>\n",
       "      <th>SOURCE_21</th>\n",
       "      <td>14.139994</td>\n",
       "    </tr>\n",
       "    <tr>\n",
       "      <th>SOURCE_22</th>\n",
       "      <td>6.157419</td>\n",
       "    </tr>\n",
       "    <tr>\n",
       "      <th>SOURCE_11</th>\n",
       "      <td>5.114792</td>\n",
       "    </tr>\n",
       "    <tr>\n",
       "      <th>SOURCE_15</th>\n",
       "      <td>0.069107</td>\n",
       "    </tr>\n",
       "    <tr>\n",
       "      <th>SOURCE_0</th>\n",
       "      <td>0.011658</td>\n",
       "    </tr>\n",
       "    <tr>\n",
       "      <th>SOURCE_13</th>\n",
       "      <td>0.000381</td>\n",
       "    </tr>\n",
       "    <tr>\n",
       "      <th>SOURCE_20</th>\n",
       "      <td>0.000000</td>\n",
       "    </tr>\n",
       "  </tbody>\n",
       "</table>\n",
       "</div>"
      ],
      "text/plain": [
       "              target_full_ltv_day30\n",
       "media_source                       \n",
       "SOURCE_17             178081.217393\n",
       "SOURCE_23              88381.038661\n",
       "SOURCE_4               58684.510253\n",
       "SOURCE_1               11350.813876\n",
       "SOURCE_2                9140.568484\n",
       "SOURCE_10               8457.155253\n",
       "SOURCE_5                7016.308524\n",
       "SOURCE_6                6402.577282\n",
       "SOURCE_18               2293.067194\n",
       "SOURCE_19               2070.000273\n",
       "SOURCE_16               1893.323764\n",
       "SOURCE_12               1340.010809\n",
       "SOURCE_14               1052.816257\n",
       "SOURCE_9                 504.761382\n",
       "SOURCE_7                 167.826151\n",
       "SOURCE_3                 156.677794\n",
       "SOURCE_8                  28.021582\n",
       "SOURCE_21                 14.139994\n",
       "SOURCE_22                  6.157419\n",
       "SOURCE_11                  5.114792\n",
       "SOURCE_15                  0.069107\n",
       "SOURCE_0                   0.011658\n",
       "SOURCE_13                  0.000381\n",
       "SOURCE_20                  0.000000"
      ]
     },
     "execution_count": 37,
     "metadata": {},
     "output_type": "execute_result"
    }
   ],
   "source": [
    "mediaSourceData_sum = df_csv[['target_full_ltv_day30', 'media_source']]\\\n",
    "    .groupby(['media_source'], group_keys=True)\\\n",
    "    .sum()\n",
    "mediaSourceData_sum.sort_values(by=['target_full_ltv_day30'], ascending=False)"
   ]
  },
  {
   "cell_type": "markdown",
   "id": "503bc3e5-3d4f-4844-b81b-65880b327711",
   "metadata": {
    "pycharm": {
     "name": "#%% md\n"
    }
   },
   "source": [
    "Ми можем дізнатись скільки прибутку принесуть користувачі які прийшли з певниз медіа ресурсів."
   ]
  },
  {
   "cell_type": "code",
   "execution_count": 38,
   "id": "c7a3dbb2-3b4e-4eb9-b997-33011380ddce",
   "metadata": {
    "pycharm": {
     "name": "#%%\n"
    }
   },
   "outputs": [
    {
     "data": {
      "text/html": [
       "<div>\n",
       "<style scoped>\n",
       "    .dataframe tbody tr th:only-of-type {\n",
       "        vertical-align: middle;\n",
       "    }\n",
       "\n",
       "    .dataframe tbody tr th {\n",
       "        vertical-align: top;\n",
       "    }\n",
       "\n",
       "    .dataframe thead th {\n",
       "        text-align: right;\n",
       "    }\n",
       "</style>\n",
       "<table border=\"1\" class=\"dataframe\">\n",
       "  <thead>\n",
       "    <tr style=\"text-align: right;\">\n",
       "      <th></th>\n",
       "      <th>target_full_ltv_day30</th>\n",
       "      <th>Percent</th>\n",
       "    </tr>\n",
       "    <tr>\n",
       "      <th>media_source</th>\n",
       "      <th></th>\n",
       "      <th></th>\n",
       "    </tr>\n",
       "  </thead>\n",
       "  <tbody>\n",
       "    <tr>\n",
       "      <th>SOURCE_17</th>\n",
       "      <td>178081.217393</td>\n",
       "      <td>47.23</td>\n",
       "    </tr>\n",
       "    <tr>\n",
       "      <th>SOURCE_23</th>\n",
       "      <td>88381.038661</td>\n",
       "      <td>23.44</td>\n",
       "    </tr>\n",
       "    <tr>\n",
       "      <th>SOURCE_4</th>\n",
       "      <td>58684.510253</td>\n",
       "      <td>15.56</td>\n",
       "    </tr>\n",
       "    <tr>\n",
       "      <th>SOURCE_1</th>\n",
       "      <td>11350.813876</td>\n",
       "      <td>3.01</td>\n",
       "    </tr>\n",
       "    <tr>\n",
       "      <th>SOURCE_2</th>\n",
       "      <td>9140.568484</td>\n",
       "      <td>2.42</td>\n",
       "    </tr>\n",
       "    <tr>\n",
       "      <th>SOURCE_10</th>\n",
       "      <td>8457.155253</td>\n",
       "      <td>2.24</td>\n",
       "    </tr>\n",
       "    <tr>\n",
       "      <th>SOURCE_5</th>\n",
       "      <td>7016.308524</td>\n",
       "      <td>1.86</td>\n",
       "    </tr>\n",
       "    <tr>\n",
       "      <th>SOURCE_6</th>\n",
       "      <td>6402.577282</td>\n",
       "      <td>1.69</td>\n",
       "    </tr>\n",
       "    <tr>\n",
       "      <th>SOURCE_18</th>\n",
       "      <td>2293.067194</td>\n",
       "      <td>0.60</td>\n",
       "    </tr>\n",
       "    <tr>\n",
       "      <th>SOURCE_19</th>\n",
       "      <td>2070.000273</td>\n",
       "      <td>0.54</td>\n",
       "    </tr>\n",
       "    <tr>\n",
       "      <th>SOURCE_16</th>\n",
       "      <td>1893.323764</td>\n",
       "      <td>0.50</td>\n",
       "    </tr>\n",
       "    <tr>\n",
       "      <th>SOURCE_12</th>\n",
       "      <td>1340.010809</td>\n",
       "      <td>0.35</td>\n",
       "    </tr>\n",
       "    <tr>\n",
       "      <th>SOURCE_14</th>\n",
       "      <td>1052.816257</td>\n",
       "      <td>0.27</td>\n",
       "    </tr>\n",
       "    <tr>\n",
       "      <th>SOURCE_9</th>\n",
       "      <td>504.761382</td>\n",
       "      <td>0.13</td>\n",
       "    </tr>\n",
       "    <tr>\n",
       "      <th>SOURCE_7</th>\n",
       "      <td>167.826151</td>\n",
       "      <td>0.04</td>\n",
       "    </tr>\n",
       "    <tr>\n",
       "      <th>SOURCE_3</th>\n",
       "      <td>156.677794</td>\n",
       "      <td>0.04</td>\n",
       "    </tr>\n",
       "    <tr>\n",
       "      <th>SOURCE_8</th>\n",
       "      <td>28.021582</td>\n",
       "      <td>0.00</td>\n",
       "    </tr>\n",
       "    <tr>\n",
       "      <th>SOURCE_21</th>\n",
       "      <td>14.139994</td>\n",
       "      <td>0.00</td>\n",
       "    </tr>\n",
       "    <tr>\n",
       "      <th>SOURCE_22</th>\n",
       "      <td>6.157419</td>\n",
       "      <td>0.00</td>\n",
       "    </tr>\n",
       "    <tr>\n",
       "      <th>SOURCE_11</th>\n",
       "      <td>5.114792</td>\n",
       "      <td>0.00</td>\n",
       "    </tr>\n",
       "    <tr>\n",
       "      <th>SOURCE_15</th>\n",
       "      <td>0.069107</td>\n",
       "      <td>0.00</td>\n",
       "    </tr>\n",
       "    <tr>\n",
       "      <th>SOURCE_0</th>\n",
       "      <td>0.011658</td>\n",
       "      <td>0.00</td>\n",
       "    </tr>\n",
       "    <tr>\n",
       "      <th>SOURCE_13</th>\n",
       "      <td>0.000381</td>\n",
       "      <td>0.00</td>\n",
       "    </tr>\n",
       "    <tr>\n",
       "      <th>SOURCE_20</th>\n",
       "      <td>0.000000</td>\n",
       "      <td>0.00</td>\n",
       "    </tr>\n",
       "  </tbody>\n",
       "</table>\n",
       "</div>"
      ],
      "text/plain": [
       "              target_full_ltv_day30  Percent\n",
       "media_source                                \n",
       "SOURCE_17             178081.217393    47.23\n",
       "SOURCE_23              88381.038661    23.44\n",
       "SOURCE_4               58684.510253    15.56\n",
       "SOURCE_1               11350.813876     3.01\n",
       "SOURCE_2                9140.568484     2.42\n",
       "SOURCE_10               8457.155253     2.24\n",
       "SOURCE_5                7016.308524     1.86\n",
       "SOURCE_6                6402.577282     1.69\n",
       "SOURCE_18               2293.067194     0.60\n",
       "SOURCE_19               2070.000273     0.54\n",
       "SOURCE_16               1893.323764     0.50\n",
       "SOURCE_12               1340.010809     0.35\n",
       "SOURCE_14               1052.816257     0.27\n",
       "SOURCE_9                 504.761382     0.13\n",
       "SOURCE_7                 167.826151     0.04\n",
       "SOURCE_3                 156.677794     0.04\n",
       "SOURCE_8                  28.021582     0.00\n",
       "SOURCE_21                 14.139994     0.00\n",
       "SOURCE_22                  6.157419     0.00\n",
       "SOURCE_11                  5.114792     0.00\n",
       "SOURCE_15                  0.069107     0.00\n",
       "SOURCE_0                   0.011658     0.00\n",
       "SOURCE_13                  0.000381     0.00\n",
       "SOURCE_20                  0.000000     0.00"
      ]
     },
     "execution_count": 38,
     "metadata": {},
     "output_type": "execute_result"
    }
   ],
   "source": [
    "mediaSourceData_sum[\"Percent\"] = np.where(mediaSourceData_sum[\"target_full_ltv_day30\"],\n",
    "                                          rejection_number((rejection_number(mediaSourceData_sum[\"target_full_ltv_day30\"], 2)*100)/377046.2, 2),\n",
    "                                          0)\n",
    "mediaSourceData_sum.sort_values(by=['target_full_ltv_day30'], ascending=False)"
   ]
  },
  {
   "cell_type": "markdown",
   "id": "3257d86f-2def-445e-8ccf-11af67b5e2b6",
   "metadata": {
    "pycharm": {
     "name": "#%% md\n"
    }
   },
   "source": [
    "Дізнавшись які медіа впливають найбільше можем надати їм відповідні коофіцієнти базуючись на їх значенні, і замінити їх зі значень строкового типу, за числові значення."
   ]
  },
  {
   "cell_type": "code",
   "execution_count": 15,
   "id": "943e1d29-699a-40f9-bca7-88e9a1350ea5",
   "metadata": {
    "pycharm": {
     "name": "#%%\n"
    }
   },
   "outputs": [],
   "source": [
    "binary_media_source = {\"SOURCE_17\" : 0.472 ,\n",
    "                       \"SOURCE_23\" : 0.234 ,\n",
    "                       \"SOURCE_4\" : 0.156 ,\n",
    "                       \"SOURCE_1\" : 0.301 ,\n",
    "                       \"SOURCE_2\" : 0.024 ,\n",
    "                       \"SOURCE_10\" : 0.022 ,\n",
    "                       \"SOURCE_5\" : 0.019 ,\n",
    "                       \"SOURCE_6\" : 0.017 ,\n",
    "                       \"SOURCE_18\" : 0.006 ,\n",
    "                       \"SOURCE_19\" : 0.005 ,\n",
    "                       \"SOURCE_16\" : 0.005 ,\n",
    "                       \"SOURCE_12\" : 0.003 ,\n",
    "                       \"SOURCE_14\" : 0.002 ,\n",
    "                       \"SOURCE_9\" : 0.001,\n",
    "                       \"SOURCE_7\" : 0 ,\n",
    "                       \"SOURCE_3\" : 0 ,\n",
    "                       \"SOURCE_8\" : 0 ,\n",
    "                       \"SOURCE_21\" : 0 ,\n",
    "                       \"SOURCE_22\" : 0 ,\n",
    "                       \"SOURCE_11\" : 0 ,\n",
    "                       \"SOURCE_15\" : 0 ,\n",
    "                       \"SOURCE_0\" : 0 ,\n",
    "                       \"SOURCE_13\" : 0 ,\n",
    "                       \"SOURCE_20\" : 0\n",
    "                      }"
   ]
  },
  {
   "cell_type": "code",
   "execution_count": 39,
   "id": "664609dc-2058-4ee9-95bd-af0cb9573731",
   "metadata": {
    "pycharm": {
     "name": "#%%\n"
    }
   },
   "outputs": [
    {
     "data": {
      "text/html": [
       "<div>\n",
       "<style scoped>\n",
       "    .dataframe tbody tr th:only-of-type {\n",
       "        vertical-align: middle;\n",
       "    }\n",
       "\n",
       "    .dataframe tbody tr th {\n",
       "        vertical-align: top;\n",
       "    }\n",
       "\n",
       "    .dataframe thead th {\n",
       "        text-align: right;\n",
       "    }\n",
       "</style>\n",
       "<table border=\"1\" class=\"dataframe\">\n",
       "  <thead>\n",
       "    <tr style=\"text-align: right;\">\n",
       "      <th></th>\n",
       "      <th>target_full_ltv_day30</th>\n",
       "    </tr>\n",
       "    <tr>\n",
       "      <th>media_source</th>\n",
       "      <th></th>\n",
       "    </tr>\n",
       "  </thead>\n",
       "  <tbody>\n",
       "    <tr>\n",
       "      <th>0.472</th>\n",
       "      <td>178081.217393</td>\n",
       "    </tr>\n",
       "    <tr>\n",
       "      <th>0.234</th>\n",
       "      <td>88381.038661</td>\n",
       "    </tr>\n",
       "    <tr>\n",
       "      <th>0.156</th>\n",
       "      <td>58684.510253</td>\n",
       "    </tr>\n",
       "    <tr>\n",
       "      <th>0.301</th>\n",
       "      <td>11350.813876</td>\n",
       "    </tr>\n",
       "    <tr>\n",
       "      <th>0.024</th>\n",
       "      <td>9140.568484</td>\n",
       "    </tr>\n",
       "    <tr>\n",
       "      <th>0.022</th>\n",
       "      <td>8457.155253</td>\n",
       "    </tr>\n",
       "    <tr>\n",
       "      <th>0.019</th>\n",
       "      <td>7016.308524</td>\n",
       "    </tr>\n",
       "    <tr>\n",
       "      <th>0.017</th>\n",
       "      <td>6402.577282</td>\n",
       "    </tr>\n",
       "    <tr>\n",
       "      <th>0.005</th>\n",
       "      <td>3963.324037</td>\n",
       "    </tr>\n",
       "    <tr>\n",
       "      <th>0.006</th>\n",
       "      <td>2293.067194</td>\n",
       "    </tr>\n",
       "    <tr>\n",
       "      <th>0.003</th>\n",
       "      <td>1340.010809</td>\n",
       "    </tr>\n",
       "    <tr>\n",
       "      <th>0.002</th>\n",
       "      <td>1052.816257</td>\n",
       "    </tr>\n",
       "    <tr>\n",
       "      <th>0.001</th>\n",
       "      <td>504.761382</td>\n",
       "    </tr>\n",
       "    <tr>\n",
       "      <th>0.000</th>\n",
       "      <td>378.018879</td>\n",
       "    </tr>\n",
       "  </tbody>\n",
       "</table>\n",
       "</div>"
      ],
      "text/plain": [
       "              target_full_ltv_day30\n",
       "media_source                       \n",
       "0.472                 178081.217393\n",
       "0.234                  88381.038661\n",
       "0.156                  58684.510253\n",
       "0.301                  11350.813876\n",
       "0.024                   9140.568484\n",
       "0.022                   8457.155253\n",
       "0.019                   7016.308524\n",
       "0.017                   6402.577282\n",
       "0.005                   3963.324037\n",
       "0.006                   2293.067194\n",
       "0.003                   1340.010809\n",
       "0.002                   1052.816257\n",
       "0.001                    504.761382\n",
       "0.000                    378.018879"
      ]
     },
     "execution_count": 39,
     "metadata": {},
     "output_type": "execute_result"
    }
   ],
   "source": [
    "df_csv['media_source'] = df_csv['media_source'].map(binary_media_source)\n",
    "mediaSourceData_sum = df_csv[['target_full_ltv_day30', 'media_source']]\\\n",
    "    .groupby(['media_source'], group_keys=True)\\\n",
    "    .sum()\n",
    "mediaSourceData_sum.sort_values(by=['target_full_ltv_day30'], ascending=False)"
   ]
  },
  {
   "cell_type": "markdown",
   "id": "ce61cad3-f527-40f4-be12-24209ac31fa6",
   "metadata": {
    "pycharm": {
     "name": "#%% md\n"
    }
   },
   "source": [
    "Остання строкова змінна це змінна країни, наділимо її коофіцієнтом за вагою."
   ]
  },
  {
   "cell_type": "code",
   "execution_count": 17,
   "id": "94373c84-45df-4878-b84d-8d3e3ac0bdd4",
   "metadata": {
    "pycharm": {
     "name": "#%%\n"
    }
   },
   "outputs": [
    {
     "data": {
      "text/html": [
       "<div>\n",
       "<style scoped>\n",
       "    .dataframe tbody tr th:only-of-type {\n",
       "        vertical-align: middle;\n",
       "    }\n",
       "\n",
       "    .dataframe tbody tr th {\n",
       "        vertical-align: top;\n",
       "    }\n",
       "\n",
       "    .dataframe thead th {\n",
       "        text-align: right;\n",
       "    }\n",
       "</style>\n",
       "<table border=\"1\" class=\"dataframe\">\n",
       "  <thead>\n",
       "    <tr style=\"text-align: right;\">\n",
       "      <th></th>\n",
       "      <th>target_full_ltv_day30</th>\n",
       "    </tr>\n",
       "    <tr>\n",
       "      <th>country_code</th>\n",
       "      <th></th>\n",
       "    </tr>\n",
       "  </thead>\n",
       "  <tbody>\n",
       "    <tr>\n",
       "      <th>COUNTRY_141</th>\n",
       "      <td>235195.833606</td>\n",
       "    </tr>\n",
       "    <tr>\n",
       "      <th>COUNTRY_155</th>\n",
       "      <td>65447.934889</td>\n",
       "    </tr>\n",
       "    <tr>\n",
       "      <th>COUNTRY_38</th>\n",
       "      <td>22037.631186</td>\n",
       "    </tr>\n",
       "    <tr>\n",
       "      <th>COUNTRY_72</th>\n",
       "      <td>21639.449274</td>\n",
       "    </tr>\n",
       "    <tr>\n",
       "      <th>COUNTRY_129</th>\n",
       "      <td>3281.257060</td>\n",
       "    </tr>\n",
       "    <tr>\n",
       "      <th>...</th>\n",
       "      <td>...</td>\n",
       "    </tr>\n",
       "    <tr>\n",
       "      <th>COUNTRY_47</th>\n",
       "      <td>0.000000</td>\n",
       "    </tr>\n",
       "    <tr>\n",
       "      <th>COUNTRY_70</th>\n",
       "      <td>0.000000</td>\n",
       "    </tr>\n",
       "    <tr>\n",
       "      <th>COUNTRY_48</th>\n",
       "      <td>0.000000</td>\n",
       "    </tr>\n",
       "    <tr>\n",
       "      <th>COUNTRY_51</th>\n",
       "      <td>0.000000</td>\n",
       "    </tr>\n",
       "    <tr>\n",
       "      <th>COUNTRY_2</th>\n",
       "      <td>0.000000</td>\n",
       "    </tr>\n",
       "  </tbody>\n",
       "</table>\n",
       "<p>224 rows × 1 columns</p>\n",
       "</div>"
      ],
      "text/plain": [
       "              target_full_ltv_day30\n",
       "country_code                       \n",
       "COUNTRY_141           235195.833606\n",
       "COUNTRY_155            65447.934889\n",
       "COUNTRY_38             22037.631186\n",
       "COUNTRY_72             21639.449274\n",
       "COUNTRY_129             3281.257060\n",
       "...                             ...\n",
       "COUNTRY_47                 0.000000\n",
       "COUNTRY_70                 0.000000\n",
       "COUNTRY_48                 0.000000\n",
       "COUNTRY_51                 0.000000\n",
       "COUNTRY_2                  0.000000\n",
       "\n",
       "[224 rows x 1 columns]"
      ]
     },
     "execution_count": 17,
     "metadata": {},
     "output_type": "execute_result"
    }
   ],
   "source": [
    "СountryСodeData_sum = df_csv[['target_full_ltv_day30', 'country_code']]\\\n",
    "    .groupby(['country_code'], group_keys=True)\\\n",
    "    .sum()\n",
    "СountryСodeData_sum.sort_values(by=['target_full_ltv_day30'], ascending=False)"
   ]
  },
  {
   "cell_type": "code",
   "execution_count": 18,
   "id": "34b4c1cb-5ede-4aea-a336-87e602c8f0a5",
   "metadata": {
    "pycharm": {
     "name": "#%%\n"
    }
   },
   "outputs": [
    {
     "data": {
      "text/html": [
       "<div>\n",
       "<style scoped>\n",
       "    .dataframe tbody tr th:only-of-type {\n",
       "        vertical-align: middle;\n",
       "    }\n",
       "\n",
       "    .dataframe tbody tr th {\n",
       "        vertical-align: top;\n",
       "    }\n",
       "\n",
       "    .dataframe thead th {\n",
       "        text-align: right;\n",
       "    }\n",
       "</style>\n",
       "<table border=\"1\" class=\"dataframe\">\n",
       "  <thead>\n",
       "    <tr style=\"text-align: right;\">\n",
       "      <th></th>\n",
       "      <th>target_full_ltv_day30</th>\n",
       "      <th>Percent_Country</th>\n",
       "    </tr>\n",
       "    <tr>\n",
       "      <th>country_code</th>\n",
       "      <th></th>\n",
       "      <th></th>\n",
       "    </tr>\n",
       "  </thead>\n",
       "  <tbody>\n",
       "    <tr>\n",
       "      <th>COUNTRY_141</th>\n",
       "      <td>235195.833606</td>\n",
       "      <td>62.37</td>\n",
       "    </tr>\n",
       "    <tr>\n",
       "      <th>COUNTRY_155</th>\n",
       "      <td>65447.934889</td>\n",
       "      <td>17.35</td>\n",
       "    </tr>\n",
       "    <tr>\n",
       "      <th>COUNTRY_38</th>\n",
       "      <td>22037.631186</td>\n",
       "      <td>5.84</td>\n",
       "    </tr>\n",
       "    <tr>\n",
       "      <th>COUNTRY_72</th>\n",
       "      <td>21639.449274</td>\n",
       "      <td>5.73</td>\n",
       "    </tr>\n",
       "    <tr>\n",
       "      <th>COUNTRY_129</th>\n",
       "      <td>3281.257060</td>\n",
       "      <td>0.87</td>\n",
       "    </tr>\n",
       "    <tr>\n",
       "      <th>...</th>\n",
       "      <td>...</td>\n",
       "      <td>...</td>\n",
       "    </tr>\n",
       "    <tr>\n",
       "      <th>COUNTRY_47</th>\n",
       "      <td>0.000000</td>\n",
       "      <td>0.00</td>\n",
       "    </tr>\n",
       "    <tr>\n",
       "      <th>COUNTRY_70</th>\n",
       "      <td>0.000000</td>\n",
       "      <td>0.00</td>\n",
       "    </tr>\n",
       "    <tr>\n",
       "      <th>COUNTRY_48</th>\n",
       "      <td>0.000000</td>\n",
       "      <td>0.00</td>\n",
       "    </tr>\n",
       "    <tr>\n",
       "      <th>COUNTRY_51</th>\n",
       "      <td>0.000000</td>\n",
       "      <td>0.00</td>\n",
       "    </tr>\n",
       "    <tr>\n",
       "      <th>COUNTRY_2</th>\n",
       "      <td>0.000000</td>\n",
       "      <td>0.00</td>\n",
       "    </tr>\n",
       "  </tbody>\n",
       "</table>\n",
       "<p>224 rows × 2 columns</p>\n",
       "</div>"
      ],
      "text/plain": [
       "              target_full_ltv_day30  Percent_Country\n",
       "country_code                                        \n",
       "COUNTRY_141           235195.833606            62.37\n",
       "COUNTRY_155            65447.934889            17.35\n",
       "COUNTRY_38             22037.631186             5.84\n",
       "COUNTRY_72             21639.449274             5.73\n",
       "COUNTRY_129             3281.257060             0.87\n",
       "...                             ...              ...\n",
       "COUNTRY_47                 0.000000             0.00\n",
       "COUNTRY_70                 0.000000             0.00\n",
       "COUNTRY_48                 0.000000             0.00\n",
       "COUNTRY_51                 0.000000             0.00\n",
       "COUNTRY_2                  0.000000             0.00\n",
       "\n",
       "[224 rows x 2 columns]"
      ]
     },
     "execution_count": 18,
     "metadata": {},
     "output_type": "execute_result"
    }
   ],
   "source": [
    "СountryСodeData_sum[\"Percent_Country\"] = np.where(СountryСodeData_sum[\"target_full_ltv_day30\"],\n",
    "                                          rejection_number((rejection_number(СountryСodeData_sum[\"target_full_ltv_day30\"], 2)*100)/377046.2, 2),\n",
    "                                          0)\n",
    "СountryСodeData_sum.sort_values(by=['target_full_ltv_day30'], ascending=False)"
   ]
  },
  {
   "cell_type": "markdown",
   "id": "d551ea51-ec11-4042-a361-77c4439e84ec",
   "metadata": {
    "pycharm": {
     "name": "#%% md\n"
    }
   },
   "source": [
    "Отримавши вагу для кожного значення ми можем побачити, що вагомими є лише перші 10, хоча їх всього 224. Тому для навчання моделі ними можна знехтувати.\n",
    "Далі ми маєм замінити строкові значенння, на числові, однак вручну як і раніше буде довго, тому ми візмем отримані дані, та створимо з них словник значень за допомогою додаткових автоматичних операцій."
   ]
  },
  {
   "cell_type": "code",
   "execution_count": 19,
   "id": "666bf70e-8c04-44bd-bbd6-6234018c3c59",
   "metadata": {
    "pycharm": {
     "name": "#%%\n"
    }
   },
   "outputs": [
    {
     "data": {
      "text/plain": [
       "62.37"
      ]
     },
     "execution_count": 19,
     "metadata": {},
     "output_type": "execute_result"
    }
   ],
   "source": [
    "list_country_code_val = СountryСodeData_sum['Percent_Country'].tolist()\n",
    "list_country_code = df_csv['country_code'].tolist()\n",
    "\n",
    "\n",
    "#Видалення дублікатів в списку\n",
    "list_country_code = [*set(list_country_code)]\n",
    "\n",
    "list_country_code_val[48]"
   ]
  },
  {
   "cell_type": "code",
   "execution_count": 20,
   "id": "3a167e40-f07c-463a-a849-4f145049daa3",
   "metadata": {
    "pycharm": {
     "name": "#%%\n"
    }
   },
   "outputs": [],
   "source": [
    "# перетворити списки в словник\n",
    "emumerete_country_code = {}\n",
    "for key in list_country_code:\n",
    "    for value in list_country_code_val:\n",
    "        emumerete_country_code[key] = 0.0\n",
    "        break  "
   ]
  },
  {
   "cell_type": "code",
   "execution_count": 21,
   "id": "2aa0398c-261e-4f7b-9eaf-304c625fd195",
   "metadata": {
    "pycharm": {
     "name": "#%%\n"
    }
   },
   "outputs": [],
   "source": [
    "#При створенні словника ми вписували всім значенням 0, тут ми ставим кодам країн їх значення\n",
    "emumerete_country_code.update([('COUNTRY_141', 0.624),('COUNTRY_155', 0.174),('COUNTRY_38', 0.058),('COUNTRY_72', 0.057),('COUNTRY_129', 0.008)])"
   ]
  },
  {
   "cell_type": "code",
   "execution_count": 22,
   "id": "2586b467-e5bb-4050-9db4-04dbea2190d5",
   "metadata": {
    "pycharm": {
     "name": "#%%\n"
    }
   },
   "outputs": [
    {
     "data": {
      "text/plain": [
       "0.624"
      ]
     },
     "execution_count": 22,
     "metadata": {},
     "output_type": "execute_result"
    }
   ],
   "source": [
    "emumerete_country_code.get('COUNTRY_141')"
   ]
  },
  {
   "cell_type": "code",
   "execution_count": 23,
   "id": "d3afd858-cb22-49aa-98cb-84bc52b88053",
   "metadata": {
    "pycharm": {
     "name": "#%%\n"
    }
   },
   "outputs": [],
   "source": [
    "#Замінюємо значення\n",
    "df_csv['country_code'] = df_csv['country_code'].map(emumerete_country_code)"
   ]
  },
  {
   "cell_type": "code",
   "execution_count": 24,
   "id": "e4addbb0-50b9-4fe8-a193-8b6a791c16a9",
   "metadata": {
    "pycharm": {
     "name": "#%%\n"
    }
   },
   "outputs": [
    {
     "data": {
      "text/html": [
       "<div>\n",
       "<style scoped>\n",
       "    .dataframe tbody tr th:only-of-type {\n",
       "        vertical-align: middle;\n",
       "    }\n",
       "\n",
       "    .dataframe tbody tr th {\n",
       "        vertical-align: top;\n",
       "    }\n",
       "\n",
       "    .dataframe thead th {\n",
       "        text-align: right;\n",
       "    }\n",
       "</style>\n",
       "<table border=\"1\" class=\"dataframe\">\n",
       "  <thead>\n",
       "    <tr style=\"text-align: right;\">\n",
       "      <th></th>\n",
       "      <th>total_sessions_day0</th>\n",
       "      <th>total_sessions_day1</th>\n",
       "      <th>total_sessions_day3</th>\n",
       "      <th>total_sessions_day7</th>\n",
       "      <th>chapters_finished_day0</th>\n",
       "      <th>chapters_finished_day1</th>\n",
       "      <th>chapters_finished_day3</th>\n",
       "      <th>chapters_finished_day7</th>\n",
       "      <th>chapters_opened_day0</th>\n",
       "      <th>chapters_opened_day1</th>\n",
       "      <th>...</th>\n",
       "      <th>install_date</th>\n",
       "      <th>country_code</th>\n",
       "      <th>ad_ltv_day0</th>\n",
       "      <th>ad_ltv_day1</th>\n",
       "      <th>ad_ltv_day3</th>\n",
       "      <th>platform</th>\n",
       "      <th>target_sub_ltv_day30</th>\n",
       "      <th>target_iap_ltv_day30</th>\n",
       "      <th>target_ad_ltv_day30</th>\n",
       "      <th>target_full_ltv_day30</th>\n",
       "    </tr>\n",
       "  </thead>\n",
       "  <tbody>\n",
       "    <tr>\n",
       "      <th>0</th>\n",
       "      <td>1.0</td>\n",
       "      <td>1.0</td>\n",
       "      <td>1.0</td>\n",
       "      <td>1.0</td>\n",
       "      <td>0</td>\n",
       "      <td>0</td>\n",
       "      <td>0</td>\n",
       "      <td>0</td>\n",
       "      <td>0</td>\n",
       "      <td>0</td>\n",
       "      <td>...</td>\n",
       "      <td>2021-12-03</td>\n",
       "      <td>0.000</td>\n",
       "      <td>0.0</td>\n",
       "      <td>0.0</td>\n",
       "      <td>0.0</td>\n",
       "      <td>1</td>\n",
       "      <td>0.0</td>\n",
       "      <td>0.0</td>\n",
       "      <td>0.0</td>\n",
       "      <td>0.0</td>\n",
       "    </tr>\n",
       "    <tr>\n",
       "      <th>1</th>\n",
       "      <td>1.0</td>\n",
       "      <td>1.0</td>\n",
       "      <td>1.0</td>\n",
       "      <td>1.0</td>\n",
       "      <td>0</td>\n",
       "      <td>0</td>\n",
       "      <td>0</td>\n",
       "      <td>0</td>\n",
       "      <td>0</td>\n",
       "      <td>0</td>\n",
       "      <td>...</td>\n",
       "      <td>2021-12-03</td>\n",
       "      <td>0.624</td>\n",
       "      <td>0.0</td>\n",
       "      <td>0.0</td>\n",
       "      <td>0.0</td>\n",
       "      <td>0</td>\n",
       "      <td>0.0</td>\n",
       "      <td>0.0</td>\n",
       "      <td>0.0</td>\n",
       "      <td>0.0</td>\n",
       "    </tr>\n",
       "    <tr>\n",
       "      <th>2</th>\n",
       "      <td>1.0</td>\n",
       "      <td>2.0</td>\n",
       "      <td>2.0</td>\n",
       "      <td>2.0</td>\n",
       "      <td>0</td>\n",
       "      <td>0</td>\n",
       "      <td>0</td>\n",
       "      <td>0</td>\n",
       "      <td>0</td>\n",
       "      <td>0</td>\n",
       "      <td>...</td>\n",
       "      <td>2021-12-03</td>\n",
       "      <td>0.624</td>\n",
       "      <td>0.0</td>\n",
       "      <td>0.0</td>\n",
       "      <td>0.0</td>\n",
       "      <td>0</td>\n",
       "      <td>0.0</td>\n",
       "      <td>0.0</td>\n",
       "      <td>0.0</td>\n",
       "      <td>0.0</td>\n",
       "    </tr>\n",
       "    <tr>\n",
       "      <th>3</th>\n",
       "      <td>1.0</td>\n",
       "      <td>1.0</td>\n",
       "      <td>1.0</td>\n",
       "      <td>1.0</td>\n",
       "      <td>0</td>\n",
       "      <td>0</td>\n",
       "      <td>0</td>\n",
       "      <td>0</td>\n",
       "      <td>0</td>\n",
       "      <td>0</td>\n",
       "      <td>...</td>\n",
       "      <td>2021-12-03</td>\n",
       "      <td>0.624</td>\n",
       "      <td>0.0</td>\n",
       "      <td>0.0</td>\n",
       "      <td>0.0</td>\n",
       "      <td>1</td>\n",
       "      <td>0.0</td>\n",
       "      <td>0.0</td>\n",
       "      <td>0.0</td>\n",
       "      <td>0.0</td>\n",
       "    </tr>\n",
       "    <tr>\n",
       "      <th>4</th>\n",
       "      <td>1.0</td>\n",
       "      <td>1.0</td>\n",
       "      <td>1.0</td>\n",
       "      <td>1.0</td>\n",
       "      <td>0</td>\n",
       "      <td>0</td>\n",
       "      <td>0</td>\n",
       "      <td>0</td>\n",
       "      <td>0</td>\n",
       "      <td>0</td>\n",
       "      <td>...</td>\n",
       "      <td>2021-12-03</td>\n",
       "      <td>0.000</td>\n",
       "      <td>0.0</td>\n",
       "      <td>0.0</td>\n",
       "      <td>0.0</td>\n",
       "      <td>0</td>\n",
       "      <td>0.0</td>\n",
       "      <td>0.0</td>\n",
       "      <td>0.0</td>\n",
       "      <td>0.0</td>\n",
       "    </tr>\n",
       "  </tbody>\n",
       "</table>\n",
       "<p>5 rows × 63 columns</p>\n",
       "</div>"
      ],
      "text/plain": [
       "   total_sessions_day0  total_sessions_day1  total_sessions_day3  \\\n",
       "0                  1.0                  1.0                  1.0   \n",
       "1                  1.0                  1.0                  1.0   \n",
       "2                  1.0                  2.0                  2.0   \n",
       "3                  1.0                  1.0                  1.0   \n",
       "4                  1.0                  1.0                  1.0   \n",
       "\n",
       "   total_sessions_day7  chapters_finished_day0  chapters_finished_day1  \\\n",
       "0                  1.0                       0                       0   \n",
       "1                  1.0                       0                       0   \n",
       "2                  2.0                       0                       0   \n",
       "3                  1.0                       0                       0   \n",
       "4                  1.0                       0                       0   \n",
       "\n",
       "   chapters_finished_day3  chapters_finished_day7  chapters_opened_day0  \\\n",
       "0                       0                       0                     0   \n",
       "1                       0                       0                     0   \n",
       "2                       0                       0                     0   \n",
       "3                       0                       0                     0   \n",
       "4                       0                       0                     0   \n",
       "\n",
       "   chapters_opened_day1  ...  install_date  country_code  ad_ltv_day0  \\\n",
       "0                     0  ...    2021-12-03         0.000          0.0   \n",
       "1                     0  ...    2021-12-03         0.624          0.0   \n",
       "2                     0  ...    2021-12-03         0.624          0.0   \n",
       "3                     0  ...    2021-12-03         0.624          0.0   \n",
       "4                     0  ...    2021-12-03         0.000          0.0   \n",
       "\n",
       "   ad_ltv_day1  ad_ltv_day3  platform  target_sub_ltv_day30  \\\n",
       "0          0.0          0.0         1                   0.0   \n",
       "1          0.0          0.0         0                   0.0   \n",
       "2          0.0          0.0         0                   0.0   \n",
       "3          0.0          0.0         1                   0.0   \n",
       "4          0.0          0.0         0                   0.0   \n",
       "\n",
       "   target_iap_ltv_day30  target_ad_ltv_day30  target_full_ltv_day30  \n",
       "0                   0.0                  0.0                    0.0  \n",
       "1                   0.0                  0.0                    0.0  \n",
       "2                   0.0                  0.0                    0.0  \n",
       "3                   0.0                  0.0                    0.0  \n",
       "4                   0.0                  0.0                    0.0  \n",
       "\n",
       "[5 rows x 63 columns]"
      ]
     },
     "execution_count": 24,
     "metadata": {},
     "output_type": "execute_result"
    }
   ],
   "source": [
    "df_csv.head()"
   ]
  }
 ],
 "metadata": {
  "kernelspec": {
   "display_name": "Python 3 (ipykernel)",
   "language": "python",
   "name": "python3"
  },
  "language_info": {
   "codemirror_mode": {
    "name": "ipython",
    "version": 3
   },
   "file_extension": ".py",
   "mimetype": "text/x-python",
   "name": "python",
   "nbconvert_exporter": "python",
   "pygments_lexer": "ipython3",
   "version": "3.9.2"
  }
 },
 "nbformat": 4,
 "nbformat_minor": 5
}