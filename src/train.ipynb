{
 "cells": [
  {
   "cell_type": "code",
   "execution_count": 107,
   "metadata": {
    "collapsed": true,
    "pycharm": {
     "name": "#%%\n"
    }
   },
   "outputs": [],
   "source": [
    "import pandas as pd\n",
    "import numpy as np\n",
    "import matplotlib.pyplot as plt\n",
    "\n",
    "from sklearn.datasets import make_regression\n",
    "from sklearn.model_selection import train_test_split\n",
    "from sklearn.feature_selection import SelectKBest\n",
    "from sklearn.feature_selection import f_regression\n",
    "from sklearn.feature_selection import mutual_info_regression\n",
    "from matplotlib import pyplot\n",
    "\n",
    "from sklearn.linear_model import LinearRegression\n",
    "from sklearn.metrics import mean_absolute_error"
   ]
  },
  {
   "cell_type": "code",
   "execution_count": null,
   "outputs": [],
   "source": [
    "dataset = pd.read_csv('../data/dataset.csv')\n",
    "dataset.info()"
   ],
   "metadata": {
    "collapsed": false,
    "pycharm": {
     "name": "#%%\n"
    }
   }
  },
  {
   "cell_type": "code",
   "execution_count": null,
   "outputs": [],
   "source": [
    "dataset.head()"
   ],
   "metadata": {
    "collapsed": false,
    "pycharm": {
     "name": "#%%\n"
    }
   }
  },
  {
   "cell_type": "code",
   "execution_count": null,
   "outputs": [],
   "source": [
    "columnsWithNaNs = ['total_sessions_day0', 'total_sessions_day1', 'total_sessions_day3', 'total_sessions_day7']\n",
    "dataset[columnsWithNaNs] = dataset[columnsWithNaNs].fillna(dataset[columnsWithNaNs].mean())\n",
    "# or better to replace with 0?\n",
    "dataset.isnull().sum()"
   ],
   "metadata": {
    "collapsed": false,
    "pycharm": {
     "name": "#%%\n"
    }
   }
  },
  {
   "cell_type": "code",
   "execution_count": null,
   "outputs": [],
   "source": [
    "#Метод відкидання зайвих чисел після коми\n",
    "#f- число, n - кількість знаків після коми, яке залишаєм\n",
    "def rejection_number (f,n):\n",
    "    return ((f * 10**n) // 1) / 10**n"
   ],
   "metadata": {
    "collapsed": false,
    "pycharm": {
     "name": "#%%\n"
    }
   }
  },
  {
   "cell_type": "code",
   "execution_count": null,
   "outputs": [],
   "source": [
    "binary_media_source = {\"SOURCE_17\" : 0.472 ,\n",
    "                       \"SOURCE_23\" : 0.234 ,\n",
    "                       \"SOURCE_4\" : 0.156 ,\n",
    "                       \"SOURCE_1\" : 0.301 ,\n",
    "                       \"SOURCE_2\" : 0.024 ,\n",
    "                       \"SOURCE_10\" : 0.022 ,\n",
    "                       \"SOURCE_5\" : 0.019 ,\n",
    "                       \"SOURCE_6\" : 0.017 ,\n",
    "                       \"SOURCE_18\" : 0.006 ,\n",
    "                       \"SOURCE_19\" : 0.005 ,\n",
    "                       \"SOURCE_16\" : 0.005 ,\n",
    "                       \"SOURCE_12\" : 0.003 ,\n",
    "                       \"SOURCE_14\" : 0.002 ,\n",
    "                       \"SOURCE_9\" : 0.001,\n",
    "                       \"SOURCE_7\" : 0 ,\n",
    "                       \"SOURCE_3\" : 0 ,\n",
    "                       \"SOURCE_8\" : 0 ,\n",
    "                       \"SOURCE_21\" : 0 ,\n",
    "                       \"SOURCE_22\" : 0 ,\n",
    "                       \"SOURCE_11\" : 0 ,\n",
    "                       \"SOURCE_15\" : 0 ,\n",
    "                       \"SOURCE_0\" : 0 ,\n",
    "                       \"SOURCE_13\" : 0 ,\n",
    "                       \"SOURCE_20\" : 0\n",
    "                      }"
   ],
   "metadata": {
    "collapsed": false,
    "pycharm": {
     "name": "#%%\n"
    }
   }
  },
  {
   "cell_type": "code",
   "execution_count": null,
   "outputs": [],
   "source": [
    "dataset['media_source'] = dataset['media_source'].map(binary_media_source)"
   ],
   "metadata": {
    "collapsed": false,
    "pycharm": {
     "name": "#%%\n"
    }
   }
  },
  {
   "cell_type": "code",
   "execution_count": null,
   "outputs": [],
   "source": [
    "binary_phone_type = {\n",
    "\t\"ios\": 0,\n",
    "\t\"android\": 1\n",
    "}\n",
    "dataset['platform'] = dataset['platform'].map(binary_phone_type)"
   ],
   "metadata": {
    "collapsed": false,
    "pycharm": {
     "name": "#%%\n"
    }
   }
  },
  {
   "cell_type": "code",
   "execution_count": null,
   "outputs": [],
   "source": [
    "СountryСodeData_sum = dataset[['target_full_ltv_day30', 'country_code']]\\\n",
    "    .groupby(['country_code'], group_keys=True)\\\n",
    "    .sum()\n",
    "СountryСodeData_sum.sort_values(by=['target_full_ltv_day30'], ascending=False)"
   ],
   "metadata": {
    "collapsed": false,
    "pycharm": {
     "name": "#%%\n"
    }
   }
  },
  {
   "cell_type": "code",
   "execution_count": null,
   "outputs": [],
   "source": [
    "СountryСodeData_sum[\"Percent_Country\"] = np.where(СountryСodeData_sum[\"target_full_ltv_day30\"],\n",
    "                                          rejection_number((rejection_number(СountryСodeData_sum[\"target_full_ltv_day30\"], 2)*100)/377046.2, 2),\n",
    "                                          0)\n",
    "СountryСodeData_sum.sort_values(by=['target_full_ltv_day30'], ascending=False)"
   ],
   "metadata": {
    "collapsed": false,
    "pycharm": {
     "name": "#%%\n"
    }
   }
  },
  {
   "cell_type": "code",
   "execution_count": null,
   "outputs": [],
   "source": [
    "list_country_code_val = СountryСodeData_sum['Percent_Country'].tolist()\n",
    "list_country_code = dataset['country_code'].tolist()\n",
    "\n",
    "#Видалення дублікатів в списку\n",
    "list_country_code = [*set(list_country_code)]\n",
    "\n",
    "list_country_code_val[48]"
   ],
   "metadata": {
    "collapsed": false,
    "pycharm": {
     "name": "#%%\n"
    }
   }
  },
  {
   "cell_type": "code",
   "execution_count": null,
   "outputs": [],
   "source": [
    "# перетворити списки в словник\n",
    "emumerete_country_code = {}\n",
    "for key in list_country_code:\n",
    "    for value in list_country_code_val:\n",
    "        emumerete_country_code[key] = 0.0\n",
    "        break"
   ],
   "metadata": {
    "collapsed": false,
    "pycharm": {
     "name": "#%%\n"
    }
   }
  },
  {
   "cell_type": "code",
   "execution_count": null,
   "outputs": [],
   "source": [
    "#При створенні словника ми вписували всім значенням 0, тут ми ставим кодам країн їх значення\n",
    "emumerete_country_code.update([('COUNTRY_141', 0.624),('COUNTRY_155', 0.174),('COUNTRY_38', 0.058),('COUNTRY_72', 0.057),('COUNTRY_129', 0.008)])"
   ],
   "metadata": {
    "collapsed": false,
    "pycharm": {
     "name": "#%%\n"
    }
   }
  },
  {
   "cell_type": "code",
   "execution_count": null,
   "outputs": [],
   "source": [
    "#Замінюємо значення\n",
    "dataset['country_code'] = dataset['country_code'].map(emumerete_country_code)"
   ],
   "metadata": {
    "collapsed": false,
    "pycharm": {
     "name": "#%%\n"
    }
   }
  },
  {
   "cell_type": "code",
   "execution_count": null,
   "outputs": [],
   "source": [
    "X = dataset.drop(columns=['target_full_ltv_day30', 'install_date'])\n",
    "y = dataset[['target_full_ltv_day30']]"
   ],
   "metadata": {
    "collapsed": false,
    "pycharm": {
     "name": "#%%\n"
    }
   }
  },
  {
   "cell_type": "code",
   "execution_count": null,
   "outputs": [],
   "source": [
    "def select_features_1(X_train, y_train, X_test):\n",
    "\tfs = SelectKBest(score_func=mutual_info_regression, k='all')\n",
    "\t# learn relationship from training data\n",
    "\tfs.fit(X_train, y_train)\n",
    "\t# transform train input data\n",
    "\tX_train_fs = fs.transform(X_train)\n",
    "\t# transform test input data\n",
    "\tX_test_fs = fs.transform(X_test)\n",
    "\treturn X_train_fs, X_test_fs, fs"
   ],
   "metadata": {
    "collapsed": false,
    "pycharm": {
     "name": "#%%\n"
    }
   }
  },
  {
   "cell_type": "code",
   "execution_count": null,
   "outputs": [],
   "source": [
    "def select_features_2(X_train, y_train, X_test):\n",
    "\t# configure to select all features\n",
    "\tfs = SelectKBest(score_func=f_regression, k='all')\n",
    "\t# learn relationship from training data\n",
    "\tfs.fit(X_train, y_train)\n",
    "\t# transform train input data\n",
    "\tX_train_fs = fs.transform(X_train)\n",
    "\t# transform test input data\n",
    "\tX_test_fs = fs.transform(X_test)\n",
    "\treturn X_train_fs, X_test_fs, fs"
   ],
   "metadata": {
    "collapsed": false,
    "pycharm": {
     "name": "#%%\n"
    }
   }
  },
  {
   "cell_type": "code",
   "execution_count": null,
   "outputs": [
    {
     "name": "stderr",
     "output_type": "stream",
     "text": [
      "/Users/tarasbohdan/Desktop/projects/TestTask_IASA_DataScience_Champ/venv/lib/python3.8/site-packages/sklearn/utils/validation.py:1111: DataConversionWarning: A column-vector y was passed when a 1d array was expected. Please change the shape of y to (n_samples, ), for example using ravel().\n",
      "  y = column_or_1d(y, warn=True)\n"
     ]
    },
    {
     "name": "stdout",
     "output_type": "stream",
     "text": [
      "Feature 0: 43383.913982\n",
      "Feature 1: 58734.589926\n",
      "Feature 2: 73192.122751\n",
      "Feature 3: 89811.162527\n",
      "Feature 4: 93810.171954\n",
      "Feature 5: 127695.377263\n",
      "Feature 6: 165317.150097\n",
      "Feature 7: 213989.737185\n",
      "Feature 8: 89808.874817\n",
      "Feature 9: 122734.260891\n",
      "Feature 10: 159038.972654\n",
      "Feature 11: 205692.569205\n",
      "Feature 12: 12934.786695\n",
      "Feature 13: 25900.305355\n",
      "Feature 14: 37493.625123\n",
      "Feature 15: 51892.079031\n",
      "Feature 16: 151610.060577\n",
      "Feature 17: 300881.761123\n",
      "Feature 18: 521320.653815\n",
      "Feature 19: 833550.777872\n",
      "Feature 20: 575539.151159\n",
      "Feature 21: 826508.318340\n",
      "Feature 22: 1299357.091926\n",
      "Feature 23: 1918020.962031\n",
      "Feature 24: 77835.491824\n",
      "Feature 25: 109817.389084\n",
      "Feature 26: 139410.165869\n",
      "Feature 27: 183688.817941\n",
      "Feature 28: 32736.548655\n",
      "Feature 29: 36315.633898\n",
      "Feature 30: 38039.182205\n",
      "Feature 31: 27636.417294\n",
      "Feature 32: 62907.241175\n",
      "Feature 33: 115106.467573\n",
      "Feature 34: 23470.832610\n",
      "Feature 35: 58179.724305\n",
      "Feature 36: 109515.564704\n",
      "Feature 37: 1344.877809\n",
      "Feature 38: 4946.333636\n",
      "Feature 39: 16188.457497\n",
      "Feature 40: 159732.805934\n",
      "Feature 41: 385664.790958\n",
      "Feature 42: 790790.709260\n",
      "Feature 43: 25987.502248\n",
      "Feature 44: 56057.826134\n",
      "Feature 45: 99060.490182\n",
      "Feature 46: 13650.173775\n",
      "Feature 47: 15491.453034\n",
      "Feature 48: 89658.263325\n",
      "Feature 49: 673976.028621\n",
      "Feature 50: 1073901.466019\n",
      "Feature 51: 1786754.443084\n",
      "Feature 52: 4802.960950\n",
      "Feature 53: 10772.624493\n",
      "Feature 54: 102040.567416\n",
      "Feature 55: 134147.890137\n",
      "Feature 56: 168279.500100\n",
      "Feature 57: 7585.060746\n",
      "Feature 58: 211147.389862\n",
      "Feature 59: 40987707.855681\n",
      "Feature 60: 263176.428784\n"
     ]
    },
    {
     "data": {
      "text/plain": "<Figure size 640x480 with 1 Axes>",
      "image/png": "[encoded data removed]"
     },
     "metadata": {},
     "output_type": "display_data"
    }
   ],
   "source": [
    "X_train, X_test, y_train, y_test = train_test_split(X, y, test_size=0.33, random_state=1)\n",
    "# feature selection\n",
    "X_train_fs, X_test_fs, fs = select_features_2(X_train, y_train, X_test)\n",
    "# what are scores for the features\n",
    "for i in range(len(fs.scores_)):\n",
    "\tprint('Feature %d: %f' % (i, fs.scores_[i]))\n",
    "# plot the scores\n",
    "pyplot.bar([i for i in range(len(fs.scores_))], fs.scores_)\n",
    "pyplot.show()"
   ],
   "metadata": {
    "collapsed": false,
    "pycharm": {
     "name": "#%%\n"
    }
   }
  },
  {
   "cell_type": "code",
   "execution_count": null,
   "outputs": [],
   "source": [
    "X_train, X_test, y_train, y_test = train_test_split(X, y, test_size=0.33, random_state=1)\n",
    "# feature selection\n",
    "X_train_fs, X_test_fs, fs = select_features_1(X_train, y_train, X_test)\n",
    "# what are scores for the features\n",
    "for i in range(len(fs.scores_)):\n",
    "\tprint('Feature %d: %f' % (i, fs.scores_[i]))\n",
    "# plot the scores\n",
    "pyplot.bar([i for i in range(len(fs.scores_))], fs.scores_)\n",
    "pyplot.show()"
   ],
   "metadata": {
    "collapsed": false,
    "pycharm": {
     "name": "#%%\n"
    }
   }
  },
  {
   "cell_type": "code",
   "execution_count": 108,
   "outputs": [
    {
     "name": "stdout",
     "output_type": "stream",
     "text": [
      "MAE: 0.000\n"
     ]
    }
   ],
   "source": [
    "model = LinearRegression()\n",
    "model.fit(X_train_fs, y_train)\n",
    "# evaluate the model\n",
    "yhat = model.predict(X_test_fs)\n",
    "# evaluate predictions\n",
    "mae = mean_absolute_error(y_test, yhat)\n",
    "print('MAE: %.3f' % mae)"
   ],
   "metadata": {
    "collapsed": false,
    "pycharm": {
     "name": "#%%\n"
    }
   }
  },
  {
   "cell_type": "code",
   "execution_count": 113,
   "outputs": [
    {
     "name": "stdout",
     "output_type": "stream",
     "text": [
      "1.0\n"
     ]
    }
   ],
   "source": [
    "from sklearn.metrics import r2_score\n",
    "\n",
    "score = r2_score(y_test, yhat)\n",
    "print(score)"
   ],
   "metadata": {
    "collapsed": false,
    "pycharm": {
     "name": "#%%\n"
    }
   }
  },
  {
   "cell_type": "code",
   "execution_count": null,
   "outputs": [],
   "source": [],
   "metadata": {
    "collapsed": false,
    "pycharm": {
     "name": "#%%\n"
    }
   }
  }
 ],
 "metadata": {
  "kernelspec": {
   "display_name": "Python 3",
   "language": "python",
   "name": "python3"
  },
  "language_info": {
   "codemirror_mode": {
    "name": "ipython",
    "version": 2
   },
   "file_extension": ".py",
   "mimetype": "text/x-python",
   "name": "python",
   "nbconvert_exporter": "python",
   "pygments_lexer": "ipython2",
   "version": "2.7.6"
  }
 },
 "nbformat": 4,
 "nbformat_minor": 0
}