{
 "cells": [
  {
   "cell_type": "code",
   "execution_count": 17,
   "metadata": {
    "pycharm": {
     "name": "#%%\n"
    }
   },
   "outputs": [],
   "source": [
    "import pandas as pd\n",
    "import matplotlib.pyplot as plt"
   ]
  },
  {
   "cell_type": "code",
   "execution_count": 18,
   "metadata": {
    "pycharm": {
     "name": "#%%\n"
    }
   },
   "outputs": [
    {
     "data": {
      "text/plain": "   total_sessions_day0  total_sessions_day1  total_sessions_day3  \\\n0                  1.0                  1.0                  1.0   \n1                  1.0                  1.0                  1.0   \n2                  1.0                  2.0                  2.0   \n3                  1.0                  1.0                  1.0   \n4                  1.0                  1.0                  1.0   \n\n   total_sessions_day7  chapters_finished_day0  chapters_finished_day1  \\\n0                  1.0                       0                       0   \n1                  1.0                       0                       0   \n2                  2.0                       0                       0   \n3                  1.0                       0                       0   \n4                  1.0                       0                       0   \n\n   chapters_finished_day3  chapters_finished_day7  chapters_opened_day0  \\\n0                       0                       0                     0   \n1                       0                       0                     0   \n2                       0                       0                     0   \n3                       0                       0                     0   \n4                       0                       0                     0   \n\n   chapters_opened_day1  ...  install_date  country_code  ad_ltv_day0  \\\n0                     0  ...    2021-12-03   COUNTRY_135          0.0   \n1                     0  ...    2021-12-03   COUNTRY_141          0.0   \n2                     0  ...    2021-12-03   COUNTRY_141          0.0   \n3                     0  ...    2021-12-03   COUNTRY_141          0.0   \n4                     0  ...    2021-12-03   COUNTRY_203          0.0   \n\n   ad_ltv_day1  ad_ltv_day3  platform  target_sub_ltv_day30  \\\n0          0.0          0.0       ios                   0.0   \n1          0.0          0.0   android                   0.0   \n2          0.0          0.0   android                   0.0   \n3          0.0          0.0       ios                   0.0   \n4          0.0          0.0   android                   0.0   \n\n   target_iap_ltv_day30  target_ad_ltv_day30  target_full_ltv_day30  \n0                   0.0                  0.0                    0.0  \n1                   0.0                  0.0                    0.0  \n2                   0.0                  0.0                    0.0  \n3                   0.0                  0.0                    0.0  \n4                   0.0                  0.0                    0.0  \n\n[5 rows x 63 columns]",
      "text/html": "<div>\n<style scoped>\n    .dataframe tbody tr th:only-of-type {\n        vertical-align: middle;\n    }\n\n    .dataframe tbody tr th {\n        vertical-align: top;\n    }\n\n    .dataframe thead th {\n        text-align: right;\n    }\n</style>\n<table border=\"1\" class=\"dataframe\">\n  <thead>\n    <tr style=\"text-align: right;\">\n      <th></th>\n      <th>total_sessions_day0</th>\n      <th>total_sessions_day1</th>\n      <th>total_sessions_day3</th>\n      <th>total_sessions_day7</th>\n      <th>chapters_finished_day0</th>\n      <th>chapters_finished_day1</th>\n      <th>chapters_finished_day3</th>\n      <th>chapters_finished_day7</th>\n      <th>chapters_opened_day0</th>\n      <th>chapters_opened_day1</th>\n      <th>...</th>\n      <th>install_date</th>\n      <th>country_code</th>\n      <th>ad_ltv_day0</th>\n      <th>ad_ltv_day1</th>\n      <th>ad_ltv_day3</th>\n      <th>platform</th>\n      <th>target_sub_ltv_day30</th>\n      <th>target_iap_ltv_day30</th>\n      <th>target_ad_ltv_day30</th>\n      <th>target_full_ltv_day30</th>\n    </tr>\n  </thead>\n  <tbody>\n    <tr>\n      <th>0</th>\n      <td>1.0</td>\n      <td>1.0</td>\n      <td>1.0</td>\n      <td>1.0</td>\n      <td>0</td>\n      <td>0</td>\n      <td>0</td>\n      <td>0</td>\n      <td>0</td>\n      <td>0</td>\n      <td>...</td>\n      <td>2021-12-03</td>\n      <td>COUNTRY_135</td>\n      <td>0.0</td>\n      <td>0.0</td>\n      <td>0.0</td>\n      <td>ios</td>\n      <td>0.0</td>\n      <td>0.0</td>\n      <td>0.0</td>\n      <td>0.0</td>\n    </tr>\n    <tr>\n      <th>1</th>\n      <td>1.0</td>\n      <td>1.0</td>\n      <td>1.0</td>\n      <td>1.0</td>\n      <td>0</td>\n      <td>0</td>\n      <td>0</td>\n      <td>0</td>\n      <td>0</td>\n      <td>0</td>\n      <td>...</td>\n      <td>2021-12-03</td>\n      <td>COUNTRY_141</td>\n      <td>0.0</td>\n      <td>0.0</td>\n      <td>0.0</td>\n      <td>android</td>\n      <td>0.0</td>\n      <td>0.0</td>\n      <td>0.0</td>\n      <td>0.0</td>\n    </tr>\n    <tr>\n      <th>2</th>\n      <td>1.0</td>\n      <td>2.0</td>\n      <td>2.0</td>\n      <td>2.0</td>\n      <td>0</td>\n      <td>0</td>\n      <td>0</td>\n      <td>0</td>\n      <td>0</td>\n      <td>0</td>\n      <td>...</td>\n      <td>2021-12-03</td>\n      <td>COUNTRY_141</td>\n      <td>0.0</td>\n      <td>0.0</td>\n      <td>0.0</td>\n      <td>android</td>\n      <td>0.0</td>\n      <td>0.0</td>\n      <td>0.0</td>\n      <td>0.0</td>\n    </tr>\n    <tr>\n      <th>3</th>\n      <td>1.0</td>\n      <td>1.0</td>\n      <td>1.0</td>\n      <td>1.0</td>\n      <td>0</td>\n      <td>0</td>\n      <td>0</td>\n      <td>0</td>\n      <td>0</td>\n      <td>0</td>\n      <td>...</td>\n      <td>2021-12-03</td>\n      <td>COUNTRY_141</td>\n      <td>0.0</td>\n      <td>0.0</td>\n      <td>0.0</td>\n      <td>ios</td>\n      <td>0.0</td>\n      <td>0.0</td>\n      <td>0.0</td>\n      <td>0.0</td>\n    </tr>\n    <tr>\n      <th>4</th>\n      <td>1.0</td>\n      <td>1.0</td>\n      <td>1.0</td>\n      <td>1.0</td>\n      <td>0</td>\n      <td>0</td>\n      <td>0</td>\n      <td>0</td>\n      <td>0</td>\n      <td>0</td>\n      <td>...</td>\n      <td>2021-12-03</td>\n      <td>COUNTRY_203</td>\n      <td>0.0</td>\n      <td>0.0</td>\n      <td>0.0</td>\n      <td>android</td>\n      <td>0.0</td>\n      <td>0.0</td>\n      <td>0.0</td>\n      <td>0.0</td>\n    </tr>\n  </tbody>\n</table>\n<p>5 rows × 63 columns</p>\n</div>"
     },
     "execution_count": 18,
     "metadata": {},
     "output_type": "execute_result"
    }
   ],
   "source": [
    "dataset = pd.read_csv('../data/dataset.csv')\n",
    "dataset.head()"
   ]
  },
  {
   "cell_type": "code",
   "execution_count": 19,
   "outputs": [
    {
     "name": "stdout",
     "output_type": "stream",
     "text": [
      "<class 'pandas.core.frame.DataFrame'>\n",
      "RangeIndex: 1467832 entries, 0 to 1467831\n",
      "Data columns (total 63 columns):\n",
      " #   Column                      Non-Null Count    Dtype  \n",
      "---  ------                      --------------    -----  \n",
      " 0   total_sessions_day0         1466467 non-null  float64\n",
      " 1   total_sessions_day1         1466465 non-null  float64\n",
      " 2   total_sessions_day3         1466464 non-null  float64\n",
      " 3   total_sessions_day7         1466458 non-null  float64\n",
      " 4   chapters_finished_day0      1467832 non-null  int64  \n",
      " 5   chapters_finished_day1      1467832 non-null  int64  \n",
      " 6   chapters_finished_day3      1467832 non-null  int64  \n",
      " 7   chapters_finished_day7      1467832 non-null  int64  \n",
      " 8   chapters_opened_day0        1467832 non-null  int64  \n",
      " 9   chapters_opened_day1        1467832 non-null  int64  \n",
      " 10  chapters_opened_day3        1467832 non-null  int64  \n",
      " 11  chapters_opened_day7        1467832 non-null  int64  \n",
      " 12  chapters_closed_day0        1467832 non-null  int64  \n",
      " 13  chapters_closed_day1        1467832 non-null  int64  \n",
      " 14  chapters_closed_day3        1467832 non-null  int64  \n",
      " 15  chapters_closed_day7        1467832 non-null  int64  \n",
      " 16  diamonds_received_day0      1467832 non-null  int64  \n",
      " 17  diamonds_received_day1      1467832 non-null  int64  \n",
      " 18  diamonds_received_day3      1467832 non-null  int64  \n",
      " 19  diamonds_received_day7      1467832 non-null  int64  \n",
      " 20  diamonds_spent_day0         1467832 non-null  int64  \n",
      " 21  diamonds_spent_day1         1467832 non-null  int64  \n",
      " 22  diamonds_spent_day3         1467832 non-null  int64  \n",
      " 23  diamonds_spent_day7         1467832 non-null  int64  \n",
      " 24  tickets_spent_day0          1467832 non-null  int64  \n",
      " 25  tickets_spent_day1          1467832 non-null  int64  \n",
      " 26  tickets_spent_day3          1467832 non-null  int64  \n",
      " 27  tickets_spent_day7          1467832 non-null  int64  \n",
      " 28  retained_day1               1467832 non-null  int64  \n",
      " 29  retained_day3               1467832 non-null  int64  \n",
      " 30  retained_day7               1467832 non-null  int64  \n",
      " 31  chapters_finished_session1  1467832 non-null  int64  \n",
      " 32  chapters_finished_session3  1467832 non-null  int64  \n",
      " 33  chapters_finished_session9  1467832 non-null  int64  \n",
      " 34  chapters_opened_session1    1467832 non-null  int64  \n",
      " 35  chapters_opened_session3    1467832 non-null  int64  \n",
      " 36  chapters_opened_session9    1467832 non-null  int64  \n",
      " 37  chapters_closed_session1    1467832 non-null  int64  \n",
      " 38  chapters_closed_session3    1467832 non-null  int64  \n",
      " 39  chapters_closed_session9    1467832 non-null  int64  \n",
      " 40  diamonds_spent_session1     1467832 non-null  int64  \n",
      " 41  diamonds_spent_session3     1467832 non-null  int64  \n",
      " 42  diamonds_spent_session9     1467832 non-null  int64  \n",
      " 43  tickets_spent_session1      1467832 non-null  int64  \n",
      " 44  tickets_spent_session3      1467832 non-null  int64  \n",
      " 45  tickets_spent_session9      1467832 non-null  int64  \n",
      " 46  app_sub_ltv_day0            1467832 non-null  float64\n",
      " 47  app_sub_ltv_day1            1467832 non-null  float64\n",
      " 48  app_sub_ltv_day3            1467832 non-null  float64\n",
      " 49  app_iap_ltv_day0            1467832 non-null  float64\n",
      " 50  app_iap_ltv_day1            1467832 non-null  float64\n",
      " 51  app_iap_ltv_day3            1467832 non-null  float64\n",
      " 52  media_source                1467832 non-null  object \n",
      " 53  install_date                1467832 non-null  object \n",
      " 54  country_code                1467832 non-null  object \n",
      " 55  ad_ltv_day0                 1467832 non-null  float64\n",
      " 56  ad_ltv_day1                 1467832 non-null  float64\n",
      " 57  ad_ltv_day3                 1467832 non-null  float64\n",
      " 58  platform                    1467832 non-null  object \n",
      " 59  target_sub_ltv_day30        1467832 non-null  float64\n",
      " 60  target_iap_ltv_day30        1467832 non-null  float64\n",
      " 61  target_ad_ltv_day30         1467832 non-null  float64\n",
      " 62  target_full_ltv_day30       1467832 non-null  float64\n",
      "dtypes: float64(17), int64(42), object(4)\n",
      "memory usage: 705.5+ MB\n"
     ]
    }
   ],
   "source": [
    "dataset.info()"
   ],
   "metadata": {
    "collapsed": false,
    "pycharm": {
     "name": "#%%\n"
    }
   }
  },
  {
   "cell_type": "code",
   "execution_count": 20,
   "outputs": [
    {
     "data": {
      "text/plain": "total_sessions_day0       1365\ntotal_sessions_day1       1367\ntotal_sessions_day3       1368\ntotal_sessions_day7       1374\nchapters_finished_day0       0\n                          ... \nplatform                     0\ntarget_sub_ltv_day30         0\ntarget_iap_ltv_day30         0\ntarget_ad_ltv_day30          0\ntarget_full_ltv_day30        0\nLength: 63, dtype: int64"
     },
     "execution_count": 20,
     "metadata": {},
     "output_type": "execute_result"
    }
   ],
   "source": [
    "dataset.isnull().sum()"
   ],
   "metadata": {
    "collapsed": false,
    "pycharm": {
     "name": "#%%\n"
    }
   }
  },
  {
   "cell_type": "code",
   "execution_count": 26,
   "outputs": [
    {
     "data": {
      "text/plain": "total_sessions_day0       0\ntotal_sessions_day1       0\ntotal_sessions_day3       0\ntotal_sessions_day7       0\nchapters_finished_day0    0\n                         ..\nplatform                  0\ntarget_sub_ltv_day30      0\ntarget_iap_ltv_day30      0\ntarget_ad_ltv_day30       0\ntarget_full_ltv_day30     0\nLength: 63, dtype: int64"
     },
     "execution_count": 26,
     "metadata": {},
     "output_type": "execute_result"
    }
   ],
   "source": [
    "columnsWithNaNs = ['total_sessions_day0', 'total_sessions_day1', 'total_sessions_day3', 'total_sessions_day7']\n",
    "dataset[columnsWithNaNs] = dataset[columnsWithNaNs].fillna(dataset[columnsWithNaNs].mean())\n",
    "# or better to replace with 0?\n",
    "dataset.isnull().sum()"
   ],
   "metadata": {
    "collapsed": false,
    "pycharm": {
     "name": "#%%\n"
    }
   }
  },
  {
   "cell_type": "markdown",
   "source": [
    "Почнімо з media_source - це закодоване джерело трафіку, з якого прийшов користувач (Facebook, Google тощо); Спробуємо з'язувати з яких media_source ми отримуємо найбільше прибутку.\n"
   ],
   "metadata": {
    "collapsed": false,
    "pycharm": {
     "name": "#%% md\n"
    }
   }
  },
  {
   "cell_type": "code",
   "execution_count": 22,
   "outputs": [
    {
     "data": {
      "text/plain": "              target_full_ltv_day30\nmedia_source                       \nSOURCE_17             178081.217393\nSOURCE_23              88381.038661\nSOURCE_4               58684.510253\nSOURCE_1               11350.813876\nSOURCE_2                9140.568484\nSOURCE_10               8457.155253\nSOURCE_5                7016.308524\nSOURCE_6                6402.577282\nSOURCE_18               2293.067194\nSOURCE_19               2070.000273\nSOURCE_16               1893.323764\nSOURCE_12               1340.010809\nSOURCE_14               1052.816257\nSOURCE_9                 504.761382\nSOURCE_7                 167.826151\nSOURCE_3                 156.677794\nSOURCE_8                  28.021582\nSOURCE_21                 14.139994\nSOURCE_22                  6.157419\nSOURCE_11                  5.114792\nSOURCE_15                  0.069107\nSOURCE_0                   0.011658\nSOURCE_13                  0.000381\nSOURCE_20                  0.000000",
      "text/html": "<div>\n<style scoped>\n    .dataframe tbody tr th:only-of-type {\n        vertical-align: middle;\n    }\n\n    .dataframe tbody tr th {\n        vertical-align: top;\n    }\n\n    .dataframe thead th {\n        text-align: right;\n    }\n</style>\n<table border=\"1\" class=\"dataframe\">\n  <thead>\n    <tr style=\"text-align: right;\">\n      <th></th>\n      <th>target_full_ltv_day30</th>\n    </tr>\n    <tr>\n      <th>media_source</th>\n      <th></th>\n    </tr>\n  </thead>\n  <tbody>\n    <tr>\n      <th>SOURCE_17</th>\n      <td>178081.217393</td>\n    </tr>\n    <tr>\n      <th>SOURCE_23</th>\n      <td>88381.038661</td>\n    </tr>\n    <tr>\n      <th>SOURCE_4</th>\n      <td>58684.510253</td>\n    </tr>\n    <tr>\n      <th>SOURCE_1</th>\n      <td>11350.813876</td>\n    </tr>\n    <tr>\n      <th>SOURCE_2</th>\n      <td>9140.568484</td>\n    </tr>\n    <tr>\n      <th>SOURCE_10</th>\n      <td>8457.155253</td>\n    </tr>\n    <tr>\n      <th>SOURCE_5</th>\n      <td>7016.308524</td>\n    </tr>\n    <tr>\n      <th>SOURCE_6</th>\n      <td>6402.577282</td>\n    </tr>\n    <tr>\n      <th>SOURCE_18</th>\n      <td>2293.067194</td>\n    </tr>\n    <tr>\n      <th>SOURCE_19</th>\n      <td>2070.000273</td>\n    </tr>\n    <tr>\n      <th>SOURCE_16</th>\n      <td>1893.323764</td>\n    </tr>\n    <tr>\n      <th>SOURCE_12</th>\n      <td>1340.010809</td>\n    </tr>\n    <tr>\n      <th>SOURCE_14</th>\n      <td>1052.816257</td>\n    </tr>\n    <tr>\n      <th>SOURCE_9</th>\n      <td>504.761382</td>\n    </tr>\n    <tr>\n      <th>SOURCE_7</th>\n      <td>167.826151</td>\n    </tr>\n    <tr>\n      <th>SOURCE_3</th>\n      <td>156.677794</td>\n    </tr>\n    <tr>\n      <th>SOURCE_8</th>\n      <td>28.021582</td>\n    </tr>\n    <tr>\n      <th>SOURCE_21</th>\n      <td>14.139994</td>\n    </tr>\n    <tr>\n      <th>SOURCE_22</th>\n      <td>6.157419</td>\n    </tr>\n    <tr>\n      <th>SOURCE_11</th>\n      <td>5.114792</td>\n    </tr>\n    <tr>\n      <th>SOURCE_15</th>\n      <td>0.069107</td>\n    </tr>\n    <tr>\n      <th>SOURCE_0</th>\n      <td>0.011658</td>\n    </tr>\n    <tr>\n      <th>SOURCE_13</th>\n      <td>0.000381</td>\n    </tr>\n    <tr>\n      <th>SOURCE_20</th>\n      <td>0.000000</td>\n    </tr>\n  </tbody>\n</table>\n</div>"
     },
     "execution_count": 22,
     "metadata": {},
     "output_type": "execute_result"
    }
   ],
   "source": [
    "mediaSourceData = dataset[['target_full_ltv_day30', 'media_source']]\\\n",
    "    .groupby(['media_source'], group_keys=True)\\\n",
    "    .sum()\n",
    "mediaSourceData.sort_values(by=['target_full_ltv_day30'], ascending=False)"
   ],
   "metadata": {
    "collapsed": false,
    "pycharm": {
     "name": "#%%\n"
    }
   }
  },
  {
   "cell_type": "markdown",
   "source": [
    "Наступним кроком з'ясуємо, яка платформа принесла нам найбільший заробіток"
   ],
   "metadata": {
    "collapsed": false,
    "pycharm": {
     "name": "#%% md\n"
    }
   }
  },
  {
   "cell_type": "code",
   "execution_count": 23,
   "outputs": [
    {
     "data": {
      "text/plain": "          target_full_ltv_day30\nplatform                       \nios               288943.060867\nandroid            88103.127418",
      "text/html": "<div>\n<style scoped>\n    .dataframe tbody tr th:only-of-type {\n        vertical-align: middle;\n    }\n\n    .dataframe tbody tr th {\n        vertical-align: top;\n    }\n\n    .dataframe thead th {\n        text-align: right;\n    }\n</style>\n<table border=\"1\" class=\"dataframe\">\n  <thead>\n    <tr style=\"text-align: right;\">\n      <th></th>\n      <th>target_full_ltv_day30</th>\n    </tr>\n    <tr>\n      <th>platform</th>\n      <th></th>\n    </tr>\n  </thead>\n  <tbody>\n    <tr>\n      <th>ios</th>\n      <td>288943.060867</td>\n    </tr>\n    <tr>\n      <th>android</th>\n      <td>88103.127418</td>\n    </tr>\n  </tbody>\n</table>\n</div>"
     },
     "execution_count": 23,
     "metadata": {},
     "output_type": "execute_result"
    }
   ],
   "source": [
    "platformData = dataset[['target_full_ltv_day30', 'platform']]\\\n",
    "    .groupby(['platform'], group_keys=True)\\\n",
    "    .sum()\n",
    "platformData.sort_values(by=['target_full_ltv_day30'], ascending=False)"
   ],
   "metadata": {
    "collapsed": false,
    "pycharm": {
     "name": "#%%\n"
    }
   }
  },
  {
   "cell_type": "code",
   "execution_count": 24,
   "outputs": [
    {
     "data": {
      "text/plain": "              target_full_ltv_day30\ninstall_date                       \n2021-12-01              4037.087482\n2021-12-02              4130.755241\n2021-12-03              3204.499475\n2021-12-04              3800.636048\n2021-12-05              3936.646668\n...                             ...\n2022-01-27              4457.286218\n2022-01-28              4121.477517\n2022-01-29              3599.604066\n2022-01-30              5346.598117\n2022-01-31              3982.779748\n\n[62 rows x 1 columns]",
      "text/html": "<div>\n<style scoped>\n    .dataframe tbody tr th:only-of-type {\n        vertical-align: middle;\n    }\n\n    .dataframe tbody tr th {\n        vertical-align: top;\n    }\n\n    .dataframe thead th {\n        text-align: right;\n    }\n</style>\n<table border=\"1\" class=\"dataframe\">\n  <thead>\n    <tr style=\"text-align: right;\">\n      <th></th>\n      <th>target_full_ltv_day30</th>\n    </tr>\n    <tr>\n      <th>install_date</th>\n      <th></th>\n    </tr>\n  </thead>\n  <tbody>\n    <tr>\n      <th>2021-12-01</th>\n      <td>4037.087482</td>\n    </tr>\n    <tr>\n      <th>2021-12-02</th>\n      <td>4130.755241</td>\n    </tr>\n    <tr>\n      <th>2021-12-03</th>\n      <td>3204.499475</td>\n    </tr>\n    <tr>\n      <th>2021-12-04</th>\n      <td>3800.636048</td>\n    </tr>\n    <tr>\n      <th>2021-12-05</th>\n      <td>3936.646668</td>\n    </tr>\n    <tr>\n      <th>...</th>\n      <td>...</td>\n    </tr>\n    <tr>\n      <th>2022-01-27</th>\n      <td>4457.286218</td>\n    </tr>\n    <tr>\n      <th>2022-01-28</th>\n      <td>4121.477517</td>\n    </tr>\n    <tr>\n      <th>2022-01-29</th>\n      <td>3599.604066</td>\n    </tr>\n    <tr>\n      <th>2022-01-30</th>\n      <td>5346.598117</td>\n    </tr>\n    <tr>\n      <th>2022-01-31</th>\n      <td>3982.779748</td>\n    </tr>\n  </tbody>\n</table>\n<p>62 rows × 1 columns</p>\n</div>"
     },
     "execution_count": 24,
     "metadata": {},
     "output_type": "execute_result"
    }
   ],
   "source": [
    "# прибуток щоденно від користувачів протягом кожного дня\n",
    "calendarData = dataset[['install_date', 'target_full_ltv_day30']]\\\n",
    "    .groupby(['install_date'], group_keys=True)\\\n",
    "    .sum()\n",
    "calendarData"
   ],
   "metadata": {
    "collapsed": false,
    "pycharm": {
     "name": "#%%\n"
    }
   }
  },
  {
   "cell_type": "code",
   "execution_count": 27,
   "outputs": [
    {
     "data": {
      "text/plain": "<Figure size 640x480 with 1 Axes>",
      "image/png": "[encoded data removed]"
     },
     "metadata": {},
     "output_type": "display_data"
    }
   ],
   "source": [
    "plt.plot(calendarData, linewidth=1, markersize=12)\n",
    "plt.show()"
   ],
   "metadata": {
    "collapsed": false,
    "pycharm": {
     "name": "#%%\n"
    }
   }
  },
  {
   "cell_type": "markdown",
   "source": [
    "Можна побачити, що ріст прибутку був в кінці першого місяця і на початку другого"
   ],
   "metadata": {
    "collapsed": false,
    "pycharm": {
     "name": "#%% md\n"
    }
   }
  },
  {
   "cell_type": "markdown",
   "source": [
    "Як валюта (кристали і тікети) впливає на прибуток? Чи правда, що люди, які к"
   ],
   "metadata": {
    "collapsed": false,
    "pycharm": {
     "name": "#%% md\n"
    }
   }
  },
  {
   "cell_type": "code",
   "execution_count": null,
   "outputs": [],
   "source": [],
   "metadata": {
    "collapsed": false,
    "pycharm": {
     "name": "#%%\n"
    }
   }
  }
 ],
 "metadata": {
  "kernelspec": {
   "display_name": "Python 3.8.2 64-bit",
   "language": "python",
   "name": "python3"
  },
  "language_info": {
   "name": "python",
   "version": "3.8.2"
  },
  "orig_nbformat": 4,
  "vscode": {
   "interpreter": {
    "hash": "31f2aee4e71d21fbe5cf8b01ff0e069b9275f58929596ceb00d14d90e3e16cd6"
   }
  }
 },
 "nbformat": 4,
 "nbformat_minor": 2
}